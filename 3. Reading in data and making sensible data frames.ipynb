{
  "nbformat": 4,
  "nbformat_minor": 0,
  "metadata": {
    "kernelspec": {
      "display_name": "Python 3",
      "language": "python",
      "name": "python3"
    },
    "language_info": {
      "codemirror_mode": {
        "name": "ipython",
        "version": 3
      },
      "file_extension": ".py",
      "mimetype": "text/x-python",
      "name": "python",
      "nbconvert_exporter": "python",
      "pygments_lexer": "ipython3",
      "version": "3.5.1"
    },
    "colab": {
      "name": "3. Reading in data and making sensible data frames.ipynb",
      "provenance": []
    }
  },
  "cells": [
    {
      "cell_type": "code",
      "metadata": {
        "collapsed": true,
        "id": "d9LMu0IIjkto"
      },
      "source": [
        "import pandas as pd\n",
        "import numpy as np"
      ],
      "execution_count": 56,
      "outputs": []
    },
    {
      "cell_type": "code",
      "metadata": {
        "id": "dt87J3Y3jktv"
      },
      "source": [
        "data = pd.read_fwf(\"http://www.cpc.ncep.noaa.gov/products/precip/CWlink/daily_ao_index/monthly.ao.index.b50.current.ascii\", parse_dates = [[0, 1]], infer_datetime_format = True, header = None,)"
      ],
      "execution_count": 57,
      "outputs": []
    },
    {
      "cell_type": "code",
      "metadata": {
        "id": "1FGUi98cjktv",
        "outputId": "c735aaec-158c-4d0d-9546-b6a0c105f002",
        "colab": {
          "base_uri": "https://localhost:8080/",
          "height": 204
        }
      },
      "source": [
        "data.head()"
      ],
      "execution_count": 58,
      "outputs": [
        {
          "output_type": "execute_result",
          "data": {
            "text/html": [
              "<div>\n",
              "<style scoped>\n",
              "    .dataframe tbody tr th:only-of-type {\n",
              "        vertical-align: middle;\n",
              "    }\n",
              "\n",
              "    .dataframe tbody tr th {\n",
              "        vertical-align: top;\n",
              "    }\n",
              "\n",
              "    .dataframe thead th {\n",
              "        text-align: right;\n",
              "    }\n",
              "</style>\n",
              "<table border=\"1\" class=\"dataframe\">\n",
              "  <thead>\n",
              "    <tr style=\"text-align: right;\">\n",
              "      <th></th>\n",
              "      <th>0_1</th>\n",
              "      <th>2</th>\n",
              "    </tr>\n",
              "  </thead>\n",
              "  <tbody>\n",
              "    <tr>\n",
              "      <th>0</th>\n",
              "      <td>1950-01-01</td>\n",
              "      <td>-0.060310</td>\n",
              "    </tr>\n",
              "    <tr>\n",
              "      <th>1</th>\n",
              "      <td>1950-02-01</td>\n",
              "      <td>0.626810</td>\n",
              "    </tr>\n",
              "    <tr>\n",
              "      <th>2</th>\n",
              "      <td>1950-03-01</td>\n",
              "      <td>-0.008128</td>\n",
              "    </tr>\n",
              "    <tr>\n",
              "      <th>3</th>\n",
              "      <td>1950-04-01</td>\n",
              "      <td>0.555100</td>\n",
              "    </tr>\n",
              "    <tr>\n",
              "      <th>4</th>\n",
              "      <td>1950-05-01</td>\n",
              "      <td>0.071577</td>\n",
              "    </tr>\n",
              "  </tbody>\n",
              "</table>\n",
              "</div>"
            ],
            "text/plain": [
              "         0_1         2\n",
              "0 1950-01-01 -0.060310\n",
              "1 1950-02-01  0.626810\n",
              "2 1950-03-01 -0.008128\n",
              "3 1950-04-01  0.555100\n",
              "4 1950-05-01  0.071577"
            ]
          },
          "metadata": {
            "tags": []
          },
          "execution_count": 58
        }
      ]
    },
    {
      "cell_type": "code",
      "metadata": {
        "collapsed": true,
        "id": "inK2vqIBjktv"
      },
      "source": [
        "data.columns = ['month', 'value']\n",
        "data.index = data.month\n",
        "data = data.drop('month', 1)"
      ],
      "execution_count": 59,
      "outputs": []
    },
    {
      "cell_type": "code",
      "metadata": {
        "id": "PMqTT18Xjktw",
        "outputId": "f043aa7c-8d35-4867-ca61-0288385fb457",
        "colab": {
          "base_uri": "https://localhost:8080/",
          "height": 235
        }
      },
      "source": [
        "data.head()"
      ],
      "execution_count": 60,
      "outputs": [
        {
          "output_type": "execute_result",
          "data": {
            "text/html": [
              "<div>\n",
              "<style scoped>\n",
              "    .dataframe tbody tr th:only-of-type {\n",
              "        vertical-align: middle;\n",
              "    }\n",
              "\n",
              "    .dataframe tbody tr th {\n",
              "        vertical-align: top;\n",
              "    }\n",
              "\n",
              "    .dataframe thead th {\n",
              "        text-align: right;\n",
              "    }\n",
              "</style>\n",
              "<table border=\"1\" class=\"dataframe\">\n",
              "  <thead>\n",
              "    <tr style=\"text-align: right;\">\n",
              "      <th></th>\n",
              "      <th>value</th>\n",
              "    </tr>\n",
              "    <tr>\n",
              "      <th>month</th>\n",
              "      <th></th>\n",
              "    </tr>\n",
              "  </thead>\n",
              "  <tbody>\n",
              "    <tr>\n",
              "      <th>1950-01-01</th>\n",
              "      <td>-0.060310</td>\n",
              "    </tr>\n",
              "    <tr>\n",
              "      <th>1950-02-01</th>\n",
              "      <td>0.626810</td>\n",
              "    </tr>\n",
              "    <tr>\n",
              "      <th>1950-03-01</th>\n",
              "      <td>-0.008128</td>\n",
              "    </tr>\n",
              "    <tr>\n",
              "      <th>1950-04-01</th>\n",
              "      <td>0.555100</td>\n",
              "    </tr>\n",
              "    <tr>\n",
              "      <th>1950-05-01</th>\n",
              "      <td>0.071577</td>\n",
              "    </tr>\n",
              "  </tbody>\n",
              "</table>\n",
              "</div>"
            ],
            "text/plain": [
              "               value\n",
              "month               \n",
              "1950-01-01 -0.060310\n",
              "1950-02-01  0.626810\n",
              "1950-03-01 -0.008128\n",
              "1950-04-01  0.555100\n",
              "1950-05-01  0.071577"
            ]
          },
          "metadata": {
            "tags": []
          },
          "execution_count": 60
        }
      ]
    },
    {
      "cell_type": "code",
      "metadata": {
        "id": "MFxeApzTjktw",
        "outputId": "77a65831-9d91-4d00-a2d7-a823641be86c",
        "colab": {
          "base_uri": "https://localhost:8080/",
          "height": 1000
        }
      },
      "source": [
        "data['1950':'1952'] #What do you notice about the range of dates?"
      ],
      "execution_count": 61,
      "outputs": [
        {
          "output_type": "execute_result",
          "data": {
            "text/html": [
              "<div>\n",
              "<style scoped>\n",
              "    .dataframe tbody tr th:only-of-type {\n",
              "        vertical-align: middle;\n",
              "    }\n",
              "\n",
              "    .dataframe tbody tr th {\n",
              "        vertical-align: top;\n",
              "    }\n",
              "\n",
              "    .dataframe thead th {\n",
              "        text-align: right;\n",
              "    }\n",
              "</style>\n",
              "<table border=\"1\" class=\"dataframe\">\n",
              "  <thead>\n",
              "    <tr style=\"text-align: right;\">\n",
              "      <th></th>\n",
              "      <th>value</th>\n",
              "    </tr>\n",
              "    <tr>\n",
              "      <th>month</th>\n",
              "      <th></th>\n",
              "    </tr>\n",
              "  </thead>\n",
              "  <tbody>\n",
              "    <tr>\n",
              "      <th>1950-01-01</th>\n",
              "      <td>-0.060310</td>\n",
              "    </tr>\n",
              "    <tr>\n",
              "      <th>1950-02-01</th>\n",
              "      <td>0.626810</td>\n",
              "    </tr>\n",
              "    <tr>\n",
              "      <th>1950-03-01</th>\n",
              "      <td>-0.008128</td>\n",
              "    </tr>\n",
              "    <tr>\n",
              "      <th>1950-04-01</th>\n",
              "      <td>0.555100</td>\n",
              "    </tr>\n",
              "    <tr>\n",
              "      <th>1950-05-01</th>\n",
              "      <td>0.071577</td>\n",
              "    </tr>\n",
              "    <tr>\n",
              "      <th>1950-06-01</th>\n",
              "      <td>0.538570</td>\n",
              "    </tr>\n",
              "    <tr>\n",
              "      <th>1950-07-01</th>\n",
              "      <td>-0.802480</td>\n",
              "    </tr>\n",
              "    <tr>\n",
              "      <th>1950-08-01</th>\n",
              "      <td>-0.851010</td>\n",
              "    </tr>\n",
              "    <tr>\n",
              "      <th>1950-09-01</th>\n",
              "      <td>0.357970</td>\n",
              "    </tr>\n",
              "    <tr>\n",
              "      <th>1950-10-01</th>\n",
              "      <td>-0.378900</td>\n",
              "    </tr>\n",
              "    <tr>\n",
              "      <th>1950-11-01</th>\n",
              "      <td>-0.515110</td>\n",
              "    </tr>\n",
              "    <tr>\n",
              "      <th>1950-12-01</th>\n",
              "      <td>-1.928100</td>\n",
              "    </tr>\n",
              "    <tr>\n",
              "      <th>1951-01-01</th>\n",
              "      <td>-0.084969</td>\n",
              "    </tr>\n",
              "    <tr>\n",
              "      <th>1951-02-01</th>\n",
              "      <td>-0.399930</td>\n",
              "    </tr>\n",
              "    <tr>\n",
              "      <th>1951-03-01</th>\n",
              "      <td>-1.934100</td>\n",
              "    </tr>\n",
              "    <tr>\n",
              "      <th>1951-04-01</th>\n",
              "      <td>-0.776480</td>\n",
              "    </tr>\n",
              "    <tr>\n",
              "      <th>1951-05-01</th>\n",
              "      <td>-0.862780</td>\n",
              "    </tr>\n",
              "    <tr>\n",
              "      <th>1951-06-01</th>\n",
              "      <td>-0.917860</td>\n",
              "    </tr>\n",
              "    <tr>\n",
              "      <th>1951-07-01</th>\n",
              "      <td>0.090023</td>\n",
              "    </tr>\n",
              "    <tr>\n",
              "      <th>1951-08-01</th>\n",
              "      <td>-0.377410</td>\n",
              "    </tr>\n",
              "    <tr>\n",
              "      <th>1951-09-01</th>\n",
              "      <td>-0.817780</td>\n",
              "    </tr>\n",
              "    <tr>\n",
              "      <th>1951-10-01</th>\n",
              "      <td>-0.212910</td>\n",
              "    </tr>\n",
              "    <tr>\n",
              "      <th>1951-11-01</th>\n",
              "      <td>-0.068519</td>\n",
              "    </tr>\n",
              "    <tr>\n",
              "      <th>1951-12-01</th>\n",
              "      <td>1.987200</td>\n",
              "    </tr>\n",
              "    <tr>\n",
              "      <th>1952-01-01</th>\n",
              "      <td>0.368250</td>\n",
              "    </tr>\n",
              "    <tr>\n",
              "      <th>1952-02-01</th>\n",
              "      <td>-1.747200</td>\n",
              "    </tr>\n",
              "    <tr>\n",
              "      <th>1952-03-01</th>\n",
              "      <td>-1.859500</td>\n",
              "    </tr>\n",
              "    <tr>\n",
              "      <th>1952-04-01</th>\n",
              "      <td>0.538520</td>\n",
              "    </tr>\n",
              "    <tr>\n",
              "      <th>1952-05-01</th>\n",
              "      <td>-0.773510</td>\n",
              "    </tr>\n",
              "    <tr>\n",
              "      <th>1952-06-01</th>\n",
              "      <td>-0.440930</td>\n",
              "    </tr>\n",
              "    <tr>\n",
              "      <th>1952-07-01</th>\n",
              "      <td>0.383080</td>\n",
              "    </tr>\n",
              "    <tr>\n",
              "      <th>1952-08-01</th>\n",
              "      <td>-0.030367</td>\n",
              "    </tr>\n",
              "    <tr>\n",
              "      <th>1952-09-01</th>\n",
              "      <td>-0.383450</td>\n",
              "    </tr>\n",
              "    <tr>\n",
              "      <th>1952-10-01</th>\n",
              "      <td>-0.437170</td>\n",
              "    </tr>\n",
              "    <tr>\n",
              "      <th>1952-11-01</th>\n",
              "      <td>-1.890900</td>\n",
              "    </tr>\n",
              "    <tr>\n",
              "      <th>1952-12-01</th>\n",
              "      <td>-1.826700</td>\n",
              "    </tr>\n",
              "  </tbody>\n",
              "</table>\n",
              "</div>"
            ],
            "text/plain": [
              "               value\n",
              "month               \n",
              "1950-01-01 -0.060310\n",
              "1950-02-01  0.626810\n",
              "1950-03-01 -0.008128\n",
              "1950-04-01  0.555100\n",
              "1950-05-01  0.071577\n",
              "1950-06-01  0.538570\n",
              "1950-07-01 -0.802480\n",
              "1950-08-01 -0.851010\n",
              "1950-09-01  0.357970\n",
              "1950-10-01 -0.378900\n",
              "1950-11-01 -0.515110\n",
              "1950-12-01 -1.928100\n",
              "1951-01-01 -0.084969\n",
              "1951-02-01 -0.399930\n",
              "1951-03-01 -1.934100\n",
              "1951-04-01 -0.776480\n",
              "1951-05-01 -0.862780\n",
              "1951-06-01 -0.917860\n",
              "1951-07-01  0.090023\n",
              "1951-08-01 -0.377410\n",
              "1951-09-01 -0.817780\n",
              "1951-10-01 -0.212910\n",
              "1951-11-01 -0.068519\n",
              "1951-12-01  1.987200\n",
              "1952-01-01  0.368250\n",
              "1952-02-01 -1.747200\n",
              "1952-03-01 -1.859500\n",
              "1952-04-01  0.538520\n",
              "1952-05-01 -0.773510\n",
              "1952-06-01 -0.440930\n",
              "1952-07-01  0.383080\n",
              "1952-08-01 -0.030367\n",
              "1952-09-01 -0.383450\n",
              "1952-10-01 -0.437170\n",
              "1952-11-01 -1.890900\n",
              "1952-12-01 -1.826700"
            ]
          },
          "metadata": {
            "tags": []
          },
          "execution_count": 61
        }
      ]
    },
    {
      "cell_type": "code",
      "metadata": {
        "collapsed": true,
        "id": "ZExqVvvRjktw",
        "outputId": "660ee5b0-78e4-4741-ce0d-0677634cdbb3",
        "colab": {
          "base_uri": "https://localhost:8080/"
        }
      },
      "source": [
        "# What is the empirical range of dates?\n",
        "print(f\"min of the date is {min(data.index)}\")\n",
        "print(f\"max of the date is {max(data.index)}\")"
      ],
      "execution_count": 64,
      "outputs": [
        {
          "output_type": "stream",
          "text": [
            "min of the date is 1950-01-01 00:00:00\n",
            "max of the date is 2020-11-01 00:00:00\n"
          ],
          "name": "stdout"
        }
      ]
    },
    {
      "cell_type": "code",
      "metadata": {
        "collapsed": true,
        "id": "D9iwQ4uOjktw",
        "outputId": "6a69864e-804e-46ae-b7eb-f92ae5fe5637",
        "colab": {
          "base_uri": "https://localhost:8080/",
          "height": 296
        }
      },
      "source": [
        "# How to visualize?\n",
        "data.plot()"
      ],
      "execution_count": 65,
      "outputs": [
        {
          "output_type": "execute_result",
          "data": {
            "text/plain": [
              "<matplotlib.axes._subplots.AxesSubplot at 0x7fa1b793feb8>"
            ]
          },
          "metadata": {
            "tags": []
          },
          "execution_count": 65
        },
        {
          "output_type": "display_data",
          "data": {
            "image/png": "[encoded data removed]",
            "text/plain": [
              "<Figure size 432x288 with 1 Axes>"
            ]
          },
          "metadata": {
            "tags": [],
            "needs_background": "light"
          }
        }
      ]
    },
    {
      "cell_type": "code",
      "metadata": {
        "id": "sMEmsD1bjktx",
        "outputId": "3aa0f8d1-8408-4063-ca92-56dd00df8b5f",
        "colab": {
          "base_uri": "https://localhost:8080/"
        }
      },
      "source": [
        "# What kind of index do we have?\n",
        "type(data.index)"
      ],
      "execution_count": 66,
      "outputs": [
        {
          "output_type": "execute_result",
          "data": {
            "text/plain": [
              "pandas.core.indexes.datetimes.DatetimeIndex"
            ]
          },
          "metadata": {
            "tags": []
          },
          "execution_count": 66
        }
      ]
    },
    {
      "cell_type": "code",
      "metadata": {
        "id": "pEx5kF9Ojktx",
        "outputId": "19f1f45c-8fbe-4cc2-a8ec-4aa093b72389",
        "colab": {
          "base_uri": "https://localhost:8080/",
          "height": 80
        }
      },
      "source": [
        "data['1951-11-11':'1951-11-12']"
      ],
      "execution_count": 67,
      "outputs": [
        {
          "output_type": "execute_result",
          "data": {
            "text/html": [
              "<div>\n",
              "<style scoped>\n",
              "    .dataframe tbody tr th:only-of-type {\n",
              "        vertical-align: middle;\n",
              "    }\n",
              "\n",
              "    .dataframe tbody tr th {\n",
              "        vertical-align: top;\n",
              "    }\n",
              "\n",
              "    .dataframe thead th {\n",
              "        text-align: right;\n",
              "    }\n",
              "</style>\n",
              "<table border=\"1\" class=\"dataframe\">\n",
              "  <thead>\n",
              "    <tr style=\"text-align: right;\">\n",
              "      <th></th>\n",
              "      <th>value</th>\n",
              "    </tr>\n",
              "    <tr>\n",
              "      <th>month</th>\n",
              "      <th></th>\n",
              "    </tr>\n",
              "  </thead>\n",
              "  <tbody>\n",
              "  </tbody>\n",
              "</table>\n",
              "</div>"
            ],
            "text/plain": [
              "Empty DataFrame\n",
              "Columns: [value]\n",
              "Index: []"
            ]
          },
          "metadata": {
            "tags": []
          },
          "execution_count": 67
        }
      ]
    },
    {
      "cell_type": "code",
      "metadata": {
        "id": "M2zVfd4Ejktx"
      },
      "source": [
        "# What if we want a period index?\n",
        "data_pd = data.to_period()"
      ],
      "execution_count": 68,
      "outputs": []
    },
    {
      "cell_type": "code",
      "metadata": {
        "id": "VVLtyTcbjktx",
        "outputId": "9d681889-9894-402c-ab81-7299e0a9803b",
        "colab": {
          "base_uri": "https://localhost:8080/",
          "height": 111
        }
      },
      "source": [
        "data_pd['1951-11-11':'1951-11-12']"
      ],
      "execution_count": 69,
      "outputs": [
        {
          "output_type": "execute_result",
          "data": {
            "text/html": [
              "<div>\n",
              "<style scoped>\n",
              "    .dataframe tbody tr th:only-of-type {\n",
              "        vertical-align: middle;\n",
              "    }\n",
              "\n",
              "    .dataframe tbody tr th {\n",
              "        vertical-align: top;\n",
              "    }\n",
              "\n",
              "    .dataframe thead th {\n",
              "        text-align: right;\n",
              "    }\n",
              "</style>\n",
              "<table border=\"1\" class=\"dataframe\">\n",
              "  <thead>\n",
              "    <tr style=\"text-align: right;\">\n",
              "      <th></th>\n",
              "      <th>value</th>\n",
              "    </tr>\n",
              "    <tr>\n",
              "      <th>month</th>\n",
              "      <th></th>\n",
              "    </tr>\n",
              "  </thead>\n",
              "  <tbody>\n",
              "    <tr>\n",
              "      <th>1951-11</th>\n",
              "      <td>-0.068519</td>\n",
              "    </tr>\n",
              "  </tbody>\n",
              "</table>\n",
              "</div>"
            ],
            "text/plain": [
              "            value\n",
              "month            \n",
              "1951-11 -0.068519"
            ]
          },
          "metadata": {
            "tags": []
          },
          "execution_count": 69
        }
      ]
    },
    {
      "cell_type": "code",
      "metadata": {
        "id": "HaohayDSjkty",
        "outputId": "6bc06109-d8aa-429e-db3e-1c2925882069",
        "colab": {
          "base_uri": "https://localhost:8080/",
          "height": 173
        }
      },
      "source": [
        "data_pd['1951-11-11':'1952-01-12']"
      ],
      "execution_count": 70,
      "outputs": [
        {
          "output_type": "execute_result",
          "data": {
            "text/html": [
              "<div>\n",
              "<style scoped>\n",
              "    .dataframe tbody tr th:only-of-type {\n",
              "        vertical-align: middle;\n",
              "    }\n",
              "\n",
              "    .dataframe tbody tr th {\n",
              "        vertical-align: top;\n",
              "    }\n",
              "\n",
              "    .dataframe thead th {\n",
              "        text-align: right;\n",
              "    }\n",
              "</style>\n",
              "<table border=\"1\" class=\"dataframe\">\n",
              "  <thead>\n",
              "    <tr style=\"text-align: right;\">\n",
              "      <th></th>\n",
              "      <th>value</th>\n",
              "    </tr>\n",
              "    <tr>\n",
              "      <th>month</th>\n",
              "      <th></th>\n",
              "    </tr>\n",
              "  </thead>\n",
              "  <tbody>\n",
              "    <tr>\n",
              "      <th>1951-11</th>\n",
              "      <td>-0.068519</td>\n",
              "    </tr>\n",
              "    <tr>\n",
              "      <th>1951-12</th>\n",
              "      <td>1.987200</td>\n",
              "    </tr>\n",
              "    <tr>\n",
              "      <th>1952-01</th>\n",
              "      <td>0.368250</td>\n",
              "    </tr>\n",
              "  </tbody>\n",
              "</table>\n",
              "</div>"
            ],
            "text/plain": [
              "            value\n",
              "month            \n",
              "1951-11 -0.068519\n",
              "1951-12  1.987200\n",
              "1952-01  0.368250"
            ]
          },
          "metadata": {
            "tags": []
          },
          "execution_count": 70
        }
      ]
    },
    {
      "cell_type": "code",
      "metadata": {
        "collapsed": true,
        "id": "ZP0Ber7djkty"
      },
      "source": [
        "# Which is more appropriate for this data?\n",
        "# since every datapoint is on the first day of the month, `period` is more appropiate"
      ],
      "execution_count": 71,
      "outputs": []
    },
    {
      "cell_type": "code",
      "metadata": {
        "id": "MdqNHwrkjkty",
        "outputId": "8e56f6ae-4815-4b4d-f4be-504ff00a3d57",
        "colab": {
          "base_uri": "https://localhost:8080/"
        }
      },
      "source": [
        "# How do various data loads perform?\n",
        "import timeit\n",
        "\n",
        "print(\"infer_datetime_format = True, no date parser\")\n",
        "%timeit pd.read_fwf(\"http://www.cpc.ncep.noaa.gov/products/precip/CWlink/daily_ao_index/monthly.ao.index.b50.current.ascii\", parse_dates = [[0, 1]], infer_datetime_format = True, header = None,)\n",
        "\n",
        "print(\"infer_datetime_format = False, no date parser\")\n",
        "%timeit pd.read_fwf(\"http://www.cpc.ncep.noaa.gov/products/precip/CWlink/daily_ao_index/monthly.ao.index.b50.current.ascii\", parse_dates = [[0, 1]], infer_datetime_format = False, header = None,)\n",
        "\n",
        "print(\"infer_datetime_format = True, date parser provided\")\n",
        "dateparse = lambda x, y: pd.datetime.strptime('%s-%s'%(x,y), '%Y-%m')\n",
        "%timeit pd.read_fwf(\"http://www.cpc.ncep.noaa.gov/products/precip/CWlink/daily_ao_index/monthly.ao.index.b50.current.ascii\", parse_dates = [[0, 1]], infer_datetime_format = True, date_parser = dateparse,  header = None,)\n",
        "\n",
        "print(\"infer_datetime_format = False, date parser provided\")\n",
        "dateparse = lambda x, y: pd.datetime.strptime('%s-%s'%(x,y), '%Y-%m')\n",
        "%timeit pd.read_fwf(\"http://www.cpc.ncep.noaa.gov/products/precip/CWlink/daily_ao_index/monthly.ao.index.b50.current.ascii\", parse_dates = [[0, 1]], infer_datetime_format = False, date_parser = dateparse,  header = None,)"
      ],
      "execution_count": 72,
      "outputs": [
        {
          "output_type": "stream",
          "text": [
            "infer_datetime_format = True, no date parser\n",
            "1 loop, best of 3: 648 ms per loop\n",
            "infer_datetime_format = False, no date parser\n",
            "1 loop, best of 3: 647 ms per loop\n",
            "infer_datetime_format = True, date parser provided\n"
          ],
          "name": "stdout"
        },
        {
          "output_type": "stream",
          "text": [
            "/usr/local/lib/python3.6/dist-packages/ipykernel_launcher.py:11: FutureWarning: The pandas.datetime class is deprecated and will be removed from pandas in a future version. Import from datetime instead.\n",
            "  # This is added back by InteractiveShellApp.init_path()\n"
          ],
          "name": "stderr"
        },
        {
          "output_type": "stream",
          "text": [
            "1 loop, best of 3: 664 ms per loop\n",
            "infer_datetime_format = False, date parser provided\n"
          ],
          "name": "stdout"
        },
        {
          "output_type": "stream",
          "text": [
            "/usr/local/lib/python3.6/dist-packages/ipykernel_launcher.py:15: FutureWarning: The pandas.datetime class is deprecated and will be removed from pandas in a future version. Import from datetime instead.\n",
            "  from ipykernel import kernelapp as app\n"
          ],
          "name": "stderr"
        },
        {
          "output_type": "stream",
          "text": [
            "1 loop, best of 3: 665 ms per loop\n"
          ],
          "name": "stdout"
        }
      ]
    },
    {
      "cell_type": "code",
      "metadata": {
        "id": "hM3EJxQhjktz",
        "outputId": "62a4bcc9-2c1f-4782-c2de-64e4ebc99739",
        "colab": {
          "base_uri": "https://localhost:8080/",
          "height": 111
        }
      },
      "source": [
        "# What if you already have the data frame and want to parse columns?\n",
        "df = pd.DataFrame({'year': [2015, 2016],'month': [2, 3],'day': [4, 5],'hour': [2, 3]})\n",
        "df"
      ],
      "execution_count": 73,
      "outputs": [
        {
          "output_type": "execute_result",
          "data": {
            "text/html": [
              "<div>\n",
              "<style scoped>\n",
              "    .dataframe tbody tr th:only-of-type {\n",
              "        vertical-align: middle;\n",
              "    }\n",
              "\n",
              "    .dataframe tbody tr th {\n",
              "        vertical-align: top;\n",
              "    }\n",
              "\n",
              "    .dataframe thead th {\n",
              "        text-align: right;\n",
              "    }\n",
              "</style>\n",
              "<table border=\"1\" class=\"dataframe\">\n",
              "  <thead>\n",
              "    <tr style=\"text-align: right;\">\n",
              "      <th></th>\n",
              "      <th>year</th>\n",
              "      <th>month</th>\n",
              "      <th>day</th>\n",
              "      <th>hour</th>\n",
              "    </tr>\n",
              "  </thead>\n",
              "  <tbody>\n",
              "    <tr>\n",
              "      <th>0</th>\n",
              "      <td>2015</td>\n",
              "      <td>2</td>\n",
              "      <td>4</td>\n",
              "      <td>2</td>\n",
              "    </tr>\n",
              "    <tr>\n",
              "      <th>1</th>\n",
              "      <td>2016</td>\n",
              "      <td>3</td>\n",
              "      <td>5</td>\n",
              "      <td>3</td>\n",
              "    </tr>\n",
              "  </tbody>\n",
              "</table>\n",
              "</div>"
            ],
            "text/plain": [
              "   year  month  day  hour\n",
              "0  2015      2    4     2\n",
              "1  2016      3    5     3"
            ]
          },
          "metadata": {
            "tags": []
          },
          "execution_count": 73
        }
      ]
    },
    {
      "cell_type": "code",
      "metadata": {
        "id": "0bWym1fAjktz",
        "outputId": "b4d11b3e-fa59-4957-be7a-a26819baca2e",
        "colab": {
          "base_uri": "https://localhost:8080/"
        }
      },
      "source": [
        "pd.to_datetime(df)"
      ],
      "execution_count": 74,
      "outputs": [
        {
          "output_type": "execute_result",
          "data": {
            "text/plain": [
              "0   2015-02-04 02:00:00\n",
              "1   2016-03-05 03:00:00\n",
              "dtype: datetime64[ns]"
            ]
          },
          "metadata": {
            "tags": []
          },
          "execution_count": 74
        }
      ]
    },
    {
      "cell_type": "code",
      "metadata": {
        "id": "1I4cWcQXjkt0",
        "outputId": "d0b9e485-e487-4bfd-98ad-830db3f7e437",
        "colab": {
          "base_uri": "https://localhost:8080/"
        }
      },
      "source": [
        "pd.to_datetime(df[['year', 'month', 'day']])"
      ],
      "execution_count": 75,
      "outputs": [
        {
          "output_type": "execute_result",
          "data": {
            "text/plain": [
              "0   2015-02-04\n",
              "1   2016-03-05\n",
              "dtype: datetime64[ns]"
            ]
          },
          "metadata": {
            "tags": []
          },
          "execution_count": 75
        }
      ]
    },
    {
      "cell_type": "code",
      "metadata": {
        "collapsed": true,
        "id": "vaRK1Y-Jjkt0"
      },
      "source": [
        "# Does it work with other column names?\n",
        "# No, it doesnt'\n",
        "\n",
        "# df_renamed = pd.DataFrame({'y': [2015, 2016],'m': [2, 3],'d': [4, 5],'h': [2, 3]})\n",
        "# pd.to_datetime(df_renamed[['year', 'month', 'day']])\n"
      ],
      "execution_count": 77,
      "outputs": []
    },
    {
      "cell_type": "code",
      "metadata": {
        "collapsed": true,
        "id": "wbDCSShDjkt0"
      },
      "source": [
        "# Go get your own time series data, load it in, and see what you can see\n",
        "# Hint: http://pandas.pydata.org/pandas-docs/stable/remote_data.html"
      ],
      "execution_count": 78,
      "outputs": []
    },
    {
      "cell_type": "code",
      "metadata": {
        "collapsed": true,
        "id": "KlKxwkT7jkt1"
      },
      "source": [
        "# 1. plot 2. get range of dates 3. convert between time and period index"
      ],
      "execution_count": 79,
      "outputs": []
    },
    {
      "cell_type": "code",
      "metadata": {
        "id": "0O1Op-5pjkt1",
        "outputId": "b1768363-726b-421c-f6fb-86c219265cbb",
        "colab": {
          "base_uri": "https://localhost:8080/"
        }
      },
      "source": [
        "# Let's experiment with truncate convenience function\n",
        "ts = pd.Series(range(10), index = pd.date_range('7/31/2015', freq = 'M', periods = 10))\n",
        "ts.truncate(before='10/31/2015', after='12/31/2015')"
      ],
      "execution_count": 80,
      "outputs": [
        {
          "output_type": "execute_result",
          "data": {
            "text/plain": [
              "2015-10-31    3\n",
              "2015-11-30    4\n",
              "2015-12-31    5\n",
              "Freq: M, dtype: int64"
            ]
          },
          "metadata": {
            "tags": []
          },
          "execution_count": 80
        }
      ]
    },
    {
      "cell_type": "code",
      "metadata": {
        "id": "rmnAj8stjkt1",
        "outputId": "6d4adeea-5449-4164-90e5-6f6086a53c82",
        "colab": {
          "base_uri": "https://localhost:8080/"
        }
      },
      "source": [
        "# You can truncate in a way that breaks frequency\n",
        "ts[[0, 2, 6]].index"
      ],
      "execution_count": 81,
      "outputs": [
        {
          "output_type": "execute_result",
          "data": {
            "text/plain": [
              "DatetimeIndex(['2015-07-31', '2015-09-30', '2016-01-31'], dtype='datetime64[ns]', freq=None)"
            ]
          },
          "metadata": {
            "tags": []
          },
          "execution_count": 81
        }
      ]
    },
    {
      "cell_type": "code",
      "metadata": {
        "id": "3V88NUM6jkt1",
        "outputId": "bdef253d-6080-4a5f-ec1a-147aba5949be",
        "colab": {
          "base_uri": "https://localhost:8080/"
        }
      },
      "source": [
        "# It will save you when it can\n",
        "ts[0:10:2].index"
      ],
      "execution_count": 83,
      "outputs": [
        {
          "output_type": "execute_result",
          "data": {
            "text/plain": [
              "DatetimeIndex(['2015-07-31', '2015-09-30', '2015-11-30', '2016-01-31',\n",
              "               '2016-03-31'],\n",
              "              dtype='datetime64[ns]', freq='2M')"
            ]
          },
          "metadata": {
            "tags": []
          },
          "execution_count": 83
        }
      ]
    },
    {
      "cell_type": "code",
      "metadata": {
        "id": "Y6_ORAKLk0Uo"
      },
      "source": [
        ""
      ],
      "execution_count": null,
      "outputs": []
    }
  ]
}