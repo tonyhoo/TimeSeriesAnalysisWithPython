{
  "nbformat": 4,
  "nbformat_minor": 0,
  "metadata": {
    "kernelspec": {
      "display_name": "Python 3",
      "language": "python",
      "name": "python3"
    },
    "language_info": {
      "codemirror_mode": {
        "name": "ipython",
        "version": 3
      },
      "file_extension": ".py",
      "mimetype": "text/x-python",
      "name": "python",
      "nbconvert_exporter": "python",
      "pygments_lexer": "ipython3",
      "version": "3.5.1"
    },
    "colab": {
      "name": "2. Time Zone Handling.ipynb",
      "provenance": []
    }
  },
  "cells": [
    {
      "cell_type": "code",
      "metadata": {
        "collapsed": true,
        "id": "SBS6cphpVhhK",
        "outputId": "d304b2ea-7c5c-4555-908c-5d6f33389c1e",
        "colab": {
          "base_uri": "https://localhost:8080/"
        }
      },
      "source": [
        "import numpy as np\n",
        "import pandas as pd\n",
        "print(f\"numpy version: {np.__version__}\")\n",
        "print(f\"pandas version: {pd.__version__}\")"
      ],
      "execution_count": 9,
      "outputs": [
        {
          "output_type": "stream",
          "text": [
            "numpy version: 1.19.4\n",
            "pandas version: 1.1.5\n"
          ],
          "name": "stdout"
        }
      ]
    },
    {
      "cell_type": "markdown",
      "metadata": {
        "id": "6NvLvqt5Ok96"
      },
      "source": [
        "## TimeZone information"
      ]
    },
    {
      "cell_type": "code",
      "metadata": {
        "collapsed": true,
        "id": "SfU_bwOuVhhS",
        "outputId": "641bf8db-6192-466b-811d-8a4dad5c7486",
        "colab": {
          "base_uri": "https://localhost:8080/"
        }
      },
      "source": [
        "rng = pd.date_range('3/6/2012 00:00', periods = 15, freq = 'D')\n",
        "print(rng.tz)"
      ],
      "execution_count": 14,
      "outputs": [
        {
          "output_type": "stream",
          "text": [
            "None\n"
          ],
          "name": "stdout"
        }
      ]
    },
    {
      "cell_type": "code",
      "metadata": {
        "id": "z_ahuJ_kVhhT",
        "outputId": "ab540b20-2a91-413a-deaa-35d8436f1d40",
        "colab": {
          "base_uri": "https://localhost:8080/"
        }
      },
      "source": [
        "rng_tz = pd.date_range('3/6/2012 00:00', periods = 15, freq = 'D', tz = 'Europe/London')\n",
        "rng_tz.tz"
      ],
      "execution_count": 16,
      "outputs": [
        {
          "output_type": "execute_result",
          "data": {
            "text/plain": [
              "<DstTzInfo 'Europe/London' LMT-1 day, 23:59:00 STD>"
            ]
          },
          "metadata": {
            "tags": []
          },
          "execution_count": 16
        }
      ]
    },
    {
      "cell_type": "code",
      "metadata": {
        "id": "BSLVMdTqVhhT",
        "outputId": "0809d3fc-472b-4521-871a-2681f69e0b7b",
        "colab": {
          "base_uri": "https://localhost:8080/"
        }
      },
      "source": [
        "# Getting lists of time zones\n",
        "\n",
        "from pytz import common_timezones, all_timezones\n",
        "print(len(common_timezones))\n",
        "print(len(all_timezones))\n",
        "print(set(all_timezones) - set(common_timezones))"
      ],
      "execution_count": 17,
      "outputs": [
        {
          "output_type": "stream",
          "text": [
            "440\n",
            "592\n",
            "{'Asia/Ashkhabad', 'Australia/ACT', 'America/Louisville', 'Etc/GMT+5', 'America/Porto_Acre', 'Etc/GMT-1', 'America/Jujuy', 'Australia/Yancowinna', 'Greenwich', 'Australia/LHI', 'Etc/GMT-10', 'Etc/GMT+7', 'America/Rosario', 'Etc/GMT+8', 'Asia/Calcutta', 'GB', 'Etc/UTC', 'MET', 'Etc/GMT+9', 'Brazil/East', 'Etc/GMT-8', 'Libya', 'Mexico/BajaSur', 'Hongkong', 'America/Fort_Wayne', 'Zulu', 'Pacific/Yap', 'Etc/GMT+10', 'Europe/Nicosia', 'Etc/GMT+4', 'US/Aleutian', 'America/Cordoba', 'Etc/GMT-9', 'Pacific/Truk', 'Australia/West', 'Kwajalein', 'Etc/GMT-6', 'Etc/GMT0', 'America/Ensenada', 'Chile/Continental', 'NZ-CHAT', 'Australia/Tasmania', 'Asia/Rangoon', 'Australia/Canberra', 'Europe/Tiraspol', 'HST', 'ROK', 'CST6CDT', 'Asia/Harbin', 'WET', 'America/Indianapolis', 'Etc/GMT-4', 'Asia/Macao', 'Iceland', 'US/Michigan', 'Egypt', 'Canada/Saskatchewan', 'Etc/GMT+2', 'America/Mendoza', 'America/Catamarca', 'Asia/Saigon', 'GMT+0', 'Jamaica', 'Asia/Ulan_Bator', 'Etc/GMT-2', 'Pacific/Johnston', 'Mexico/General', 'MST', 'Australia/Victoria', 'Etc/Greenwich', 'W-SU', 'Etc/GMT-0', 'Etc/GMT-13', 'America/Shiprock', 'Pacific/Samoa', 'Europe/Belfast', 'Australia/South', 'Israel', 'Etc/GMT+3', 'Asia/Tel_Aviv', 'Etc/GMT-3', 'Etc/GMT-12', 'Australia/North', 'America/Coral_Harbour', 'Eire', 'Asia/Kashgar', 'Brazil/DeNoronha', 'Canada/Yukon', 'Japan', 'Africa/Asmera', 'America/Montreal', 'Asia/Chongqing', 'Australia/Queensland', 'US/East-Indiana', 'NZ', 'EST', 'America/Argentina/ComodRivadavia', 'MST7MDT', 'Etc/GMT-14', 'Etc/GMT-11', 'America/Knox_IN', 'Etc/UCT', 'Etc/GMT+11', 'Navajo', 'Brazil/Acre', 'Australia/NSW', 'Iran', 'Asia/Thimbu', 'Etc/Universal', 'Etc/GMT+0', 'Pacific/Ponape', 'Etc/GMT-7', 'Brazil/West', 'Atlantic/Jan_Mayen', 'Asia/Ujung_Pandang', 'America/Virgin', 'Etc/GMT+6', 'Cuba', 'Portugal', 'PST8PDT', 'Asia/Katmandu', 'Etc/GMT-5', 'Atlantic/Faeroe', 'Etc/Zulu', 'Antarctica/South_Pole', 'GMT-0', 'Poland', 'America/Buenos_Aires', 'Mexico/BajaNorte', 'US/Indiana-Starke', 'Etc/GMT', 'America/Atka', 'PRC', 'Turkey', 'Etc/GMT+12', 'Chile/EasterIsland', 'UCT', 'Singapore', 'America/Santa_Isabel', 'Universal', 'GB-Eire', 'EST5EDT', 'CET', 'US/Samoa', 'GMT0', 'Asia/Dacca', 'Africa/Timbuktu', 'Asia/Istanbul', 'Etc/GMT+1', 'Asia/Chungking', 'ROC', 'EET'}\n"
          ],
          "name": "stdout"
        }
      ]
    },
    {
      "cell_type": "code",
      "metadata": {
        "id": "tKbAi-xvVhhU",
        "outputId": "15b5c04e-6d68-456b-f460-4637c83357f2",
        "colab": {
          "base_uri": "https://localhost:8080/"
        }
      },
      "source": [
        "# You can also localize a naive timestamp\n",
        "t_naive = pd.Timestamp('2016-07-10 08:50')\n",
        "t_naive"
      ],
      "execution_count": 21,
      "outputs": [
        {
          "output_type": "execute_result",
          "data": {
            "text/plain": [
              "Timestamp('2016-07-10 08:50:00')"
            ]
          },
          "metadata": {
            "tags": []
          },
          "execution_count": 21
        }
      ]
    },
    {
      "cell_type": "code",
      "metadata": {
        "id": "p-DjEiW_VhhU",
        "outputId": "9a8d443c-5a40-4152-c9b9-3647fc7df251",
        "colab": {
          "base_uri": "https://localhost:8080/"
        }
      },
      "source": [
        "t = t_naive.tz_localize(tz = 'US/Central')\n",
        "t"
      ],
      "execution_count": 25,
      "outputs": [
        {
          "output_type": "execute_result",
          "data": {
            "text/plain": [
              "Timestamp('2016-07-10 08:50:00-0500', tz='US/Central')"
            ]
          },
          "metadata": {
            "tags": []
          },
          "execution_count": 25
        }
      ]
    },
    {
      "cell_type": "code",
      "metadata": {
        "id": "nzWeqobxVhhU",
        "outputId": "47d38ea2-70b6-4cb9-b51a-1529e71610e7",
        "colab": {
          "base_uri": "https://localhost:8080/"
        }
      },
      "source": [
        "t.tz_convert('Asia/Tokyo')"
      ],
      "execution_count": 23,
      "outputs": [
        {
          "output_type": "execute_result",
          "data": {
            "text/plain": [
              "Timestamp('2016-07-10 22:50:00+0900', tz='Asia/Tokyo')"
            ]
          },
          "metadata": {
            "tags": []
          },
          "execution_count": 23
        }
      ]
    },
    {
      "cell_type": "code",
      "metadata": {
        "id": "T1Xo1pIUQIuT",
        "outputId": "3e77cc3f-58a4-485c-9478-36f2b1282c31",
        "colab": {
          "base_uri": "https://localhost:8080/",
          "height": 232
        }
      },
      "source": [
        "# Differences between tz_localize and tz_convert\n",
        "# tz_localize can't localize a timestamp which already has timezone\n",
        "\n",
        "t.tz_localize('Asia/Beijing')\n"
      ],
      "execution_count": 26,
      "outputs": [
        {
          "output_type": "error",
          "ename": "TypeError",
          "evalue": "ignored",
          "traceback": [
            "\u001b[0;31m---------------------------------------------------------------------------\u001b[0m",
            "\u001b[0;31mTypeError\u001b[0m                                 Traceback (most recent call last)",
            "\u001b[0;32m<ipython-input-26-474081f60a92>\u001b[0m in \u001b[0;36m<module>\u001b[0;34m()\u001b[0m\n\u001b[1;32m      2\u001b[0m \u001b[0;31m# tz_localize can't localize a timestamp which already has timezone\u001b[0m\u001b[0;34m\u001b[0m\u001b[0;34m\u001b[0m\u001b[0;34m\u001b[0m\u001b[0m\n\u001b[1;32m      3\u001b[0m \u001b[0;34m\u001b[0m\u001b[0m\n\u001b[0;32m----> 4\u001b[0;31m \u001b[0mt\u001b[0m\u001b[0;34m.\u001b[0m\u001b[0mtz_localize\u001b[0m\u001b[0;34m(\u001b[0m\u001b[0;34m'Asia/Beijing'\u001b[0m\u001b[0;34m)\u001b[0m\u001b[0;34m\u001b[0m\u001b[0;34m\u001b[0m\u001b[0m\n\u001b[0m",
            "\u001b[0;32mpandas/_libs/tslibs/timestamps.pyx\u001b[0m in \u001b[0;36mpandas._libs.tslibs.timestamps.Timestamp.tz_localize\u001b[0;34m()\u001b[0m\n",
            "\u001b[0;31mTypeError\u001b[0m: Cannot localize tz-aware Timestamp, use tz_convert for conversions"
          ]
        }
      ]
    },
    {
      "cell_type": "code",
      "metadata": {
        "id": "vMZNWdbLVhhV",
        "outputId": "ccd4d3d2-b94f-4592-8b88-7ee7f1217718",
        "colab": {
          "base_uri": "https://localhost:8080/"
        }
      },
      "source": [
        "# how to handle daylight savings?\n",
        "rng = pd.date_range('2016-03-10', periods=10, tz='US/Pacific')\n",
        "ts = pd.Series(range(10), index=rng)\n",
        "ts"
      ],
      "execution_count": 34,
      "outputs": [
        {
          "output_type": "execute_result",
          "data": {
            "text/plain": [
              "2016-03-10 00:00:00-08:00    0\n",
              "2016-03-11 00:00:00-08:00    1\n",
              "2016-03-12 00:00:00-08:00    2\n",
              "2016-03-13 00:00:00-08:00    3\n",
              "2016-03-14 00:00:00-07:00    4\n",
              "2016-03-15 00:00:00-07:00    5\n",
              "2016-03-16 00:00:00-07:00    6\n",
              "2016-03-17 00:00:00-07:00    7\n",
              "2016-03-18 00:00:00-07:00    8\n",
              "2016-03-19 00:00:00-07:00    9\n",
              "Freq: D, dtype: int64"
            ]
          },
          "metadata": {
            "tags": []
          },
          "execution_count": 34
        }
      ]
    },
    {
      "cell_type": "code",
      "metadata": {
        "id": "iM8QLzT5VhhV",
        "outputId": "bf46521d-e351-4842-ce25-b49d7d597c2b",
        "colab": {
          "base_uri": "https://localhost:8080/"
        }
      },
      "source": [
        "rng = pd.date_range('2016-03-10', periods=10, tz='utc')\n",
        "ts = pd.Series(range(10), index=rng)\n",
        "ts"
      ],
      "execution_count": 28,
      "outputs": [
        {
          "output_type": "execute_result",
          "data": {
            "text/plain": [
              "2016-03-10 00:00:00+00:00    0\n",
              "2016-03-11 00:00:00+00:00    1\n",
              "2016-03-12 00:00:00+00:00    2\n",
              "2016-03-13 00:00:00+00:00    3\n",
              "2016-03-14 00:00:00+00:00    4\n",
              "2016-03-15 00:00:00+00:00    5\n",
              "2016-03-16 00:00:00+00:00    6\n",
              "2016-03-17 00:00:00+00:00    7\n",
              "2016-03-18 00:00:00+00:00    8\n",
              "2016-03-19 00:00:00+00:00    9\n",
              "Freq: D, dtype: int64"
            ]
          },
          "metadata": {
            "tags": []
          },
          "execution_count": 28
        }
      ]
    },
    {
      "cell_type": "code",
      "metadata": {
        "id": "7TFZwo0tVhhW",
        "outputId": "bc1bfd44-dac5-418a-f803-d3e4aa006ad7",
        "colab": {
          "base_uri": "https://localhost:8080/"
        }
      },
      "source": [
        "ts.tz_convert('US/Central')"
      ],
      "execution_count": 29,
      "outputs": [
        {
          "output_type": "execute_result",
          "data": {
            "text/plain": [
              "2016-03-09 18:00:00-06:00    0\n",
              "2016-03-10 18:00:00-06:00    1\n",
              "2016-03-11 18:00:00-06:00    2\n",
              "2016-03-12 18:00:00-06:00    3\n",
              "2016-03-13 19:00:00-05:00    4\n",
              "2016-03-14 19:00:00-05:00    5\n",
              "2016-03-15 19:00:00-05:00    6\n",
              "2016-03-16 19:00:00-05:00    7\n",
              "2016-03-17 19:00:00-05:00    8\n",
              "2016-03-18 19:00:00-05:00    9\n",
              "Freq: D, dtype: int64"
            ]
          },
          "metadata": {
            "tags": []
          },
          "execution_count": 29
        }
      ]
    },
    {
      "cell_type": "code",
      "metadata": {
        "id": "ay9xrzoXVhhW",
        "outputId": "e207e264-2756-473e-9ef4-e82cff9eb838",
        "colab": {
          "base_uri": "https://localhost:8080/"
        }
      },
      "source": [
        "pd.date_range('03-12-2016 22:00', periods = 12, freq = 'H', tz = 'US/Eastern')"
      ],
      "execution_count": 35,
      "outputs": [
        {
          "output_type": "execute_result",
          "data": {
            "text/plain": [
              "DatetimeIndex(['2016-03-12 22:00:00-05:00', '2016-03-12 23:00:00-05:00',\n",
              "               '2016-03-13 00:00:00-05:00', '2016-03-13 01:00:00-05:00',\n",
              "               '2016-03-13 03:00:00-04:00', '2016-03-13 04:00:00-04:00',\n",
              "               '2016-03-13 05:00:00-04:00', '2016-03-13 06:00:00-04:00',\n",
              "               '2016-03-13 07:00:00-04:00', '2016-03-13 08:00:00-04:00',\n",
              "               '2016-03-13 09:00:00-04:00', '2016-03-13 10:00:00-04:00'],\n",
              "              dtype='datetime64[ns, US/Eastern]', freq='H')"
            ]
          },
          "metadata": {
            "tags": []
          },
          "execution_count": 35
        }
      ]
    },
    {
      "cell_type": "code",
      "metadata": {
        "id": "n5oVID9OVhhW",
        "outputId": "f18e44db-9ae9-498f-d294-1597f6e1a43b",
        "colab": {
          "base_uri": "https://localhost:8080/",
          "height": 392
        }
      },
      "source": [
        "# you can see ambiguous dates\n",
        "\n",
        "rng_hourly = pd.DatetimeIndex(['11/06/2016 00:00', '11/06/2016 01:00', '11/06/2016 01:00', '11/06/2016 02:00', '11/06/2016 03:00', '11/06/2016 04:00', '11/06/2016 05:00'])\n",
        "rng_hourly.tz_localize(tz='US/Eastern')"
      ],
      "execution_count": 53,
      "outputs": [
        {
          "output_type": "error",
          "ename": "AmbiguousTimeError",
          "evalue": "ignored",
          "traceback": [
            "\u001b[0;31m---------------------------------------------------------------------------\u001b[0m",
            "\u001b[0;31mAmbiguousTimeError\u001b[0m                        Traceback (most recent call last)",
            "\u001b[0;32m<ipython-input-53-cb1500e7611a>\u001b[0m in \u001b[0;36m<module>\u001b[0;34m()\u001b[0m\n\u001b[1;32m      2\u001b[0m \u001b[0;34m\u001b[0m\u001b[0m\n\u001b[1;32m      3\u001b[0m \u001b[0mrng_hourly\u001b[0m \u001b[0;34m=\u001b[0m \u001b[0mpd\u001b[0m\u001b[0;34m.\u001b[0m\u001b[0mDatetimeIndex\u001b[0m\u001b[0;34m(\u001b[0m\u001b[0;34m[\u001b[0m\u001b[0;34m'11/06/2016 00:00'\u001b[0m\u001b[0;34m,\u001b[0m \u001b[0;34m'11/06/2016 01:00'\u001b[0m\u001b[0;34m,\u001b[0m \u001b[0;34m'11/06/2016 01:00'\u001b[0m\u001b[0;34m,\u001b[0m \u001b[0;34m'11/06/2016 02:00'\u001b[0m\u001b[0;34m,\u001b[0m \u001b[0;34m'11/06/2016 03:00'\u001b[0m\u001b[0;34m,\u001b[0m \u001b[0;34m'11/06/2016 04:00'\u001b[0m\u001b[0;34m,\u001b[0m \u001b[0;34m'11/06/2016 05:00'\u001b[0m\u001b[0;34m]\u001b[0m\u001b[0;34m)\u001b[0m\u001b[0;34m\u001b[0m\u001b[0;34m\u001b[0m\u001b[0m\n\u001b[0;32m----> 4\u001b[0;31m \u001b[0mrng_hourly\u001b[0m\u001b[0;34m.\u001b[0m\u001b[0mtz_localize\u001b[0m\u001b[0;34m(\u001b[0m\u001b[0mtz\u001b[0m\u001b[0;34m=\u001b[0m\u001b[0;34m'US/Eastern'\u001b[0m\u001b[0;34m)\u001b[0m\u001b[0;34m\u001b[0m\u001b[0;34m\u001b[0m\u001b[0m\n\u001b[0m",
            "\u001b[0;32m/usr/local/lib/python3.6/dist-packages/pandas/core/indexes/datetimes.py\u001b[0m in \u001b[0;36mtz_localize\u001b[0;34m(self, tz, ambiguous, nonexistent)\u001b[0m\n\u001b[1;32m    233\u001b[0m         \u001b[0mself\u001b[0m\u001b[0;34m,\u001b[0m \u001b[0mtz\u001b[0m\u001b[0;34m,\u001b[0m \u001b[0mambiguous\u001b[0m\u001b[0;34m=\u001b[0m\u001b[0;34m\"raise\"\u001b[0m\u001b[0;34m,\u001b[0m \u001b[0mnonexistent\u001b[0m\u001b[0;34m=\u001b[0m\u001b[0;34m\"raise\"\u001b[0m\u001b[0;34m\u001b[0m\u001b[0;34m\u001b[0m\u001b[0m\n\u001b[1;32m    234\u001b[0m     ) -> \"DatetimeIndex\":\n\u001b[0;32m--> 235\u001b[0;31m         \u001b[0marr\u001b[0m \u001b[0;34m=\u001b[0m \u001b[0mself\u001b[0m\u001b[0;34m.\u001b[0m\u001b[0m_data\u001b[0m\u001b[0;34m.\u001b[0m\u001b[0mtz_localize\u001b[0m\u001b[0;34m(\u001b[0m\u001b[0mtz\u001b[0m\u001b[0;34m,\u001b[0m \u001b[0mambiguous\u001b[0m\u001b[0;34m,\u001b[0m \u001b[0mnonexistent\u001b[0m\u001b[0;34m)\u001b[0m\u001b[0;34m\u001b[0m\u001b[0;34m\u001b[0m\u001b[0m\n\u001b[0m\u001b[1;32m    236\u001b[0m         \u001b[0;32mreturn\u001b[0m \u001b[0mtype\u001b[0m\u001b[0;34m(\u001b[0m\u001b[0mself\u001b[0m\u001b[0;34m)\u001b[0m\u001b[0;34m.\u001b[0m\u001b[0m_simple_new\u001b[0m\u001b[0;34m(\u001b[0m\u001b[0marr\u001b[0m\u001b[0;34m,\u001b[0m \u001b[0mname\u001b[0m\u001b[0;34m=\u001b[0m\u001b[0mself\u001b[0m\u001b[0;34m.\u001b[0m\u001b[0mname\u001b[0m\u001b[0;34m)\u001b[0m\u001b[0;34m\u001b[0m\u001b[0;34m\u001b[0m\u001b[0m\n\u001b[1;32m    237\u001b[0m \u001b[0;34m\u001b[0m\u001b[0m\n",
            "\u001b[0;32m/usr/local/lib/python3.6/dist-packages/pandas/core/arrays/datetimes.py\u001b[0m in \u001b[0;36mtz_localize\u001b[0;34m(self, tz, ambiguous, nonexistent)\u001b[0m\n\u001b[1;32m    970\u001b[0m \u001b[0;34m\u001b[0m\u001b[0m\n\u001b[1;32m    971\u001b[0m             new_dates = tzconversion.tz_localize_to_utc(\n\u001b[0;32m--> 972\u001b[0;31m                 \u001b[0mself\u001b[0m\u001b[0;34m.\u001b[0m\u001b[0masi8\u001b[0m\u001b[0;34m,\u001b[0m \u001b[0mtz\u001b[0m\u001b[0;34m,\u001b[0m \u001b[0mambiguous\u001b[0m\u001b[0;34m=\u001b[0m\u001b[0mambiguous\u001b[0m\u001b[0;34m,\u001b[0m \u001b[0mnonexistent\u001b[0m\u001b[0;34m=\u001b[0m\u001b[0mnonexistent\u001b[0m\u001b[0;34m\u001b[0m\u001b[0;34m\u001b[0m\u001b[0m\n\u001b[0m\u001b[1;32m    973\u001b[0m             )\n\u001b[1;32m    974\u001b[0m         \u001b[0mnew_dates\u001b[0m \u001b[0;34m=\u001b[0m \u001b[0mnew_dates\u001b[0m\u001b[0;34m.\u001b[0m\u001b[0mview\u001b[0m\u001b[0;34m(\u001b[0m\u001b[0mDT64NS_DTYPE\u001b[0m\u001b[0;34m)\u001b[0m\u001b[0;34m\u001b[0m\u001b[0;34m\u001b[0m\u001b[0m\n",
            "\u001b[0;32mpandas/_libs/tslibs/tzconversion.pyx\u001b[0m in \u001b[0;36mpandas._libs.tslibs.tzconversion.tz_localize_to_utc\u001b[0;34m()\u001b[0m\n",
            "\u001b[0;31mAmbiguousTimeError\u001b[0m: Cannot infer dst time from 2016-11-06 01:00:00, try using the 'ambiguous' argument"
          ]
        }
      ]
    },
    {
      "cell_type": "code",
      "metadata": {
        "id": "7YJFrE233QhW"
      },
      "source": [
        "rng_hourly = rng_hourly.tz_localize(tz='US/Eastern', ambiguous='infer')"
      ],
      "execution_count": 57,
      "outputs": []
    },
    {
      "cell_type": "code",
      "metadata": {
        "id": "Z1y5K78ISQ3j",
        "outputId": "43af5630-743c-414b-98cf-ad842753ba5d",
        "colab": {
          "base_uri": "https://localhost:8080/"
        }
      },
      "source": [
        "rng_hourly.tz_convert('UTC')"
      ],
      "execution_count": 58,
      "outputs": [
        {
          "output_type": "execute_result",
          "data": {
            "text/plain": [
              "DatetimeIndex(['2016-11-06 04:00:00+00:00', '2016-11-06 05:00:00+00:00',\n",
              "               '2016-11-06 06:00:00+00:00', '2016-11-06 07:00:00+00:00',\n",
              "               '2016-11-06 08:00:00+00:00', '2016-11-06 09:00:00+00:00',\n",
              "               '2016-11-06 10:00:00+00:00'],\n",
              "              dtype='datetime64[ns, UTC]', freq=None)"
            ]
          },
          "metadata": {
            "tags": []
          },
          "execution_count": 58
        }
      ]
    },
    {
      "cell_type": "code",
      "metadata": {
        "id": "WwsaprnZUNV1"
      },
      "source": [
        ""
      ],
      "execution_count": null,
      "outputs": []
    }
  ]
}