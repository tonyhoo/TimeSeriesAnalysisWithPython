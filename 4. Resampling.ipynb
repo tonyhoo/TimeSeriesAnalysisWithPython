{
  "nbformat": 4,
  "nbformat_minor": 0,
  "metadata": {
    "kernelspec": {
      "display_name": "Python 3",
      "language": "python",
      "name": "python3"
    },
    "language_info": {
      "codemirror_mode": {
        "name": "ipython",
        "version": 3
      },
      "file_extension": ".py",
      "mimetype": "text/x-python",
      "name": "python",
      "nbconvert_exporter": "python",
      "pygments_lexer": "ipython3",
      "version": "3.5.1"
    },
    "colab": {
      "name": "4. Resampling.ipynb",
      "provenance": []
    }
  },
  "cells": [
    {
      "cell_type": "code",
      "metadata": {
        "collapsed": true,
        "id": "kn7Agu3-mN9Q"
      },
      "source": [
        "import pandas as pd\n",
        "import numpy as np"
      ],
      "execution_count": 1,
      "outputs": []
    },
    {
      "cell_type": "code",
      "metadata": {
        "collapsed": true,
        "id": "Wpo_JpoPmN9X",
        "outputId": "19bc4efa-8957-46fd-df28-d642727090c5",
        "colab": {
          "base_uri": "https://localhost:8080/"
        }
      },
      "source": [
        "rng = pd.date_range('1/1/2011', periods=24, freq='H')\n",
        "ts = pd.Series(range(24), index=rng)\n",
        "ts.head()"
      ],
      "execution_count": 9,
      "outputs": [
        {
          "output_type": "execute_result",
          "data": {
            "text/plain": [
              "2011-01-01 00:00:00    0\n",
              "2011-01-01 01:00:00    1\n",
              "2011-01-01 02:00:00    2\n",
              "2011-01-01 03:00:00    3\n",
              "2011-01-01 04:00:00    4\n",
              "Freq: H, dtype: int64"
            ]
          },
          "metadata": {
            "tags": []
          },
          "execution_count": 9
        }
      ]
    },
    {
      "cell_type": "code",
      "metadata": {
        "collapsed": true,
        "id": "kmgvYX-DmN9X",
        "outputId": "c6bd294f-35d4-44aa-9f6e-0dbbced0d010",
        "colab": {
          "base_uri": "https://localhost:8080/"
        }
      },
      "source": [
        "converted = ts.asfreq('45Min', method='ffill')\n",
        "converted.head(6)"
      ],
      "execution_count": 11,
      "outputs": [
        {
          "output_type": "execute_result",
          "data": {
            "text/plain": [
              "2011-01-01 00:00:00    0\n",
              "2011-01-01 00:45:00    0\n",
              "2011-01-01 01:30:00    1\n",
              "2011-01-01 02:15:00    2\n",
              "2011-01-01 03:00:00    3\n",
              "2011-01-01 03:45:00    3\n",
              "Freq: 45T, dtype: int64"
            ]
          },
          "metadata": {
            "tags": []
          },
          "execution_count": 11
        }
      ]
    },
    {
      "cell_type": "code",
      "metadata": {
        "collapsed": true,
        "id": "qzEgWO-VmN9X",
        "outputId": "31146776-0ea2-4878-e859-c70c8791f188",
        "colab": {
          "base_uri": "https://localhost:8080/"
        }
      },
      "source": [
        "# Does asfreq change the # of rows?\n",
        "print(ts.shape)\n",
        "print(converted.shape)"
      ],
      "execution_count": 12,
      "outputs": [
        {
          "output_type": "stream",
          "text": [
            "(24,)\n",
            "(31,)\n"
          ],
          "name": "stdout"
        }
      ]
    },
    {
      "cell_type": "code",
      "metadata": {
        "id": "jw7sRWGGmN9Y"
      },
      "source": [
        "# What do the different methods do?\n",
        "# method : {‘backfill’, ‘bfill’, ‘pad’, ‘ffill’, None}\n",
        "\n",
        "# 'backfill/bfill': filling with future valid data points\n",
        "# 'pad/ffill': filling with past valid data points. This is more frequement used way"
      ],
      "execution_count": 13,
      "outputs": []
    },
    {
      "cell_type": "code",
      "metadata": {
        "collapsed": true,
        "id": "j9jsE8QpmN9Z"
      },
      "source": [
        "# What's the difference between going to a higher frequency and a lower frequency?"
      ],
      "execution_count": 17,
      "outputs": []
    },
    {
      "cell_type": "code",
      "metadata": {
        "collapsed": true,
        "id": "7xuG3eTPmN9Z",
        "outputId": "f4bb202e-ef85-42f3-e11e-4df58065aa42",
        "colab": {
          "base_uri": "https://localhost:8080/"
        }
      },
      "source": [
        "converted = ts.asfreq('90Min', method = None)\n",
        "converted"
      ],
      "execution_count": 20,
      "outputs": [
        {
          "output_type": "execute_result",
          "data": {
            "text/plain": [
              "2011-01-01 00:00:00     0.0\n",
              "2011-01-01 01:30:00     NaN\n",
              "2011-01-01 03:00:00     3.0\n",
              "2011-01-01 04:30:00     NaN\n",
              "2011-01-01 06:00:00     6.0\n",
              "2011-01-01 07:30:00     NaN\n",
              "2011-01-01 09:00:00     9.0\n",
              "2011-01-01 10:30:00     NaN\n",
              "2011-01-01 12:00:00    12.0\n",
              "2011-01-01 13:30:00     NaN\n",
              "2011-01-01 15:00:00    15.0\n",
              "2011-01-01 16:30:00     NaN\n",
              "2011-01-01 18:00:00    18.0\n",
              "2011-01-01 19:30:00     NaN\n",
              "2011-01-01 21:00:00    21.0\n",
              "2011-01-01 22:30:00     NaN\n",
              "Freq: 90T, dtype: float64"
            ]
          },
          "metadata": {
            "tags": []
          },
          "execution_count": 20
        }
      ]
    },
    {
      "cell_type": "code",
      "metadata": {
        "collapsed": true,
        "id": "tLN7Kc89mN9Z"
      },
      "source": [
        "# What's different logically about going to a higher frequency vs a lower frequency? \n",
        "# What do you want to do when switching to a lower freqeuncy that is not logical when switching to a higher frequency?"
      ],
      "execution_count": null,
      "outputs": []
    },
    {
      "cell_type": "code",
      "metadata": {
        "id": "4sMaGkncmN9a",
        "outputId": "0704ce20-c94d-449e-dfa7-d25d4e51c7c8",
        "colab": {
          "base_uri": "https://localhost:8080/"
        }
      },
      "source": [
        "ts.resample('90Min').mean()"
      ],
      "execution_count": 22,
      "outputs": [
        {
          "output_type": "execute_result",
          "data": {
            "text/plain": [
              "2011-01-01 00:00:00     0.5\n",
              "2011-01-01 01:30:00     2.0\n",
              "2011-01-01 03:00:00     3.5\n",
              "2011-01-01 04:30:00     5.0\n",
              "2011-01-01 06:00:00     6.5\n",
              "2011-01-01 07:30:00     8.0\n",
              "2011-01-01 09:00:00     9.5\n",
              "2011-01-01 10:30:00    11.0\n",
              "2011-01-01 12:00:00    12.5\n",
              "2011-01-01 13:30:00    14.0\n",
              "2011-01-01 15:00:00    15.5\n",
              "2011-01-01 16:30:00    17.0\n",
              "2011-01-01 18:00:00    18.5\n",
              "2011-01-01 19:30:00    20.0\n",
              "2011-01-01 21:00:00    21.5\n",
              "2011-01-01 22:30:00    23.0\n",
              "Freq: 90T, dtype: float64"
            ]
          },
          "metadata": {
            "tags": []
          },
          "execution_count": 22
        }
      ]
    },
    {
      "cell_type": "code",
      "metadata": {
        "collapsed": true,
        "id": "QcIXCb2LmN9a"
      },
      "source": [
        "# What if you want to downsample and you don't want to ffill or bfill?\n",
        "\n",
        "# Default is None"
      ],
      "execution_count": 41,
      "outputs": []
    },
    {
      "cell_type": "code",
      "metadata": {
        "collapsed": true,
        "id": "0XSnt1cimN9a",
        "outputId": "66d49ad0-88e5-4c95-f934-1f09d04054b3",
        "colab": {
          "base_uri": "https://localhost:8080/"
        }
      },
      "source": [
        "irreg_ts = ts[list(np.random.choice(a = list(range(len(ts))), size = 10, replace=False))]\n",
        "irreg_ts.sort_index()"
      ],
      "execution_count": 35,
      "outputs": [
        {
          "output_type": "execute_result",
          "data": {
            "text/plain": [
              "2011-01-01 02:00:00     2\n",
              "2011-01-01 06:00:00     6\n",
              "2011-01-01 11:00:00    11\n",
              "2011-01-01 14:00:00    14\n",
              "2011-01-01 17:00:00    17\n",
              "2011-01-01 18:00:00    18\n",
              "2011-01-01 19:00:00    19\n",
              "2011-01-01 20:00:00    20\n",
              "2011-01-01 21:00:00    21\n",
              "2011-01-01 23:00:00    23\n",
              "dtype: int64"
            ]
          },
          "metadata": {
            "tags": []
          },
          "execution_count": 35
        }
      ]
    },
    {
      "cell_type": "code",
      "metadata": {
        "id": "cLWcH9i0ESqO",
        "outputId": "9fb476a9-956c-4e38-9d65-867ea2b1f438",
        "colab": {
          "base_uri": "https://localhost:8080/"
        }
      },
      "source": [
        "# `asfreq` and `resample` cannot work on unsorted timestamps\n",
        "irreg_ts.sort_index().asfreq('90Min')"
      ],
      "execution_count": 36,
      "outputs": [
        {
          "output_type": "execute_result",
          "data": {
            "text/plain": [
              "2011-01-01 02:00:00     2.0\n",
              "2011-01-01 03:30:00     NaN\n",
              "2011-01-01 05:00:00     NaN\n",
              "2011-01-01 06:30:00     NaN\n",
              "2011-01-01 08:00:00     NaN\n",
              "2011-01-01 09:30:00     NaN\n",
              "2011-01-01 11:00:00    11.0\n",
              "2011-01-01 12:30:00     NaN\n",
              "2011-01-01 14:00:00    14.0\n",
              "2011-01-01 15:30:00     NaN\n",
              "2011-01-01 17:00:00    17.0\n",
              "2011-01-01 18:30:00     NaN\n",
              "2011-01-01 20:00:00    20.0\n",
              "2011-01-01 21:30:00     NaN\n",
              "2011-01-01 23:00:00    23.0\n",
              "Freq: 90T, dtype: float64"
            ]
          },
          "metadata": {
            "tags": []
          },
          "execution_count": 36
        }
      ]
    },
    {
      "cell_type": "code",
      "metadata": {
        "id": "aipcgueRE9l7",
        "outputId": "5e750a71-f97f-45a9-ae5e-afa9dd696ae3",
        "colab": {
          "base_uri": "https://localhost:8080/"
        }
      },
      "source": [
        "irreg_ts.sort_index().resample('90Min').ffill()"
      ],
      "execution_count": 54,
      "outputs": [
        {
          "output_type": "execute_result",
          "data": {
            "text/plain": [
              "2011-01-01 01:30:00     NaN\n",
              "2011-01-01 03:00:00     2.0\n",
              "2011-01-01 04:30:00     2.0\n",
              "2011-01-01 06:00:00     6.0\n",
              "2011-01-01 07:30:00     6.0\n",
              "2011-01-01 09:00:00     6.0\n",
              "2011-01-01 10:30:00     6.0\n",
              "2011-01-01 12:00:00    11.0\n",
              "2011-01-01 13:30:00    11.0\n",
              "2011-01-01 15:00:00    14.0\n",
              "2011-01-01 16:30:00    14.0\n",
              "2011-01-01 18:00:00    18.0\n",
              "2011-01-01 19:30:00    19.0\n",
              "2011-01-01 21:00:00    21.0\n",
              "2011-01-01 22:30:00    21.0\n",
              "Freq: 90T, dtype: float64"
            ]
          },
          "metadata": {
            "tags": []
          },
          "execution_count": 54
        }
      ]
    },
    {
      "cell_type": "code",
      "metadata": {
        "id": "4AB-uSm3ERzw"
      },
      "source": [
        "# What is the difference between .resample() and .asfreq()?\n",
        "# `asfreq()` without filling method will put NaN in case there is no data landed on the same timestamp\n",
        "# `asfreq()` is more limited while `resample()` is more powerful that you can apply different aggregation method on top"
      ],
      "execution_count": 42,
      "outputs": []
    },
    {
      "cell_type": "code",
      "metadata": {
        "collapsed": true,
        "id": "W6tr6pe1mN9a"
      },
      "source": [
        "# What are some special things you can do with .resample() you can't do with .asfreq()?\n",
        "# `resample()` is more powerful and can apply window functions"
      ],
      "execution_count": null,
      "outputs": []
    },
    {
      "cell_type": "code",
      "metadata": {
        "collapsed": true,
        "id": "BcVY6hPCmN9a",
        "outputId": "cee28ee0-c8c8-472a-df13-fc9a74c59c47",
        "colab": {
          "base_uri": "https://localhost:8080/"
        }
      },
      "source": [
        "# How can I forward fill with a few data points (hint: fillna)\n",
        "irreg_ts.sort_index().asfreq('90Min').fillna(limit=5, method='ffill')"
      ],
      "execution_count": 51,
      "outputs": [
        {
          "output_type": "execute_result",
          "data": {
            "text/plain": [
              "2011-01-01 02:00:00     2.0\n",
              "2011-01-01 03:30:00     2.0\n",
              "2011-01-01 05:00:00     2.0\n",
              "2011-01-01 06:30:00     2.0\n",
              "2011-01-01 08:00:00     2.0\n",
              "2011-01-01 09:30:00     2.0\n",
              "2011-01-01 11:00:00    11.0\n",
              "2011-01-01 12:30:00    11.0\n",
              "2011-01-01 14:00:00    14.0\n",
              "2011-01-01 15:30:00    14.0\n",
              "2011-01-01 17:00:00    17.0\n",
              "2011-01-01 18:30:00    17.0\n",
              "2011-01-01 20:00:00    20.0\n",
              "2011-01-01 21:30:00    20.0\n",
              "2011-01-01 23:00:00    23.0\n",
              "Freq: 90T, dtype: float64"
            ]
          },
          "metadata": {
            "tags": []
          },
          "execution_count": 51
        }
      ]
    },
    {
      "cell_type": "code",
      "metadata": {
        "id": "H0SgaGHRE7AZ"
      },
      "source": [
        ""
      ],
      "execution_count": null,
      "outputs": []
    },
    {
      "cell_type": "code",
      "metadata": {
        "id": "THP8AAYME88b"
      },
      "source": [
        ""
      ],
      "execution_count": null,
      "outputs": []
    }
  ]
}