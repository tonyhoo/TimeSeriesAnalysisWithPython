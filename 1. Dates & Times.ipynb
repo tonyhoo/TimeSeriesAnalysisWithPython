{
  "nbformat": 4,
  "nbformat_minor": 0,
  "metadata": {
    "kernelspec": {
      "display_name": "Python 3",
      "language": "python",
      "name": "python3"
    },
    "language_info": {
      "codemirror_mode": {
        "name": "ipython",
        "version": 3
      },
      "file_extension": ".py",
      "mimetype": "text/x-python",
      "name": "python",
      "nbconvert_exporter": "python",
      "pygments_lexer": "ipython3",
      "version": "3.5.1"
    },
    "colab": {
      "name": "1. Dates & Times.ipynb",
      "provenance": []
    }
  },
  "cells": [
    {
      "cell_type": "code",
      "metadata": {
        "collapsed": true,
        "id": "JSqZ4eeVBNVJ",
        "outputId": "5a0ec3e4-a139-4b88-a45b-8c56bb9bb687",
        "colab": {
          "base_uri": "https://localhost:8080/"
        }
      },
      "source": [
        "import pandas as pd\n",
        "import numpy as np\n",
        "print(f'numpy version: {np.__version__}')\n",
        "print(f'pandas version: {pd.__version__}')"
      ],
      "execution_count": 3,
      "outputs": [
        {
          "output_type": "stream",
          "text": [
            "numpy version: 1.19.4\n",
            "pandas version: 1.1.5\n"
          ],
          "name": "stdout"
        }
      ]
    },
    {
      "cell_type": "markdown",
      "metadata": {
        "id": "yPD-tXg4EJwx"
      },
      "source": [
        "## Generate series of times"
      ]
    },
    {
      "cell_type": "code",
      "metadata": {
        "id": "xMak7rTWBNVL",
        "outputId": "af80cde5-f047-414c-8692-698bc3979a47",
        "colab": {
          "base_uri": "https://localhost:8080/"
        }
      },
      "source": [
        "# TIMES \n",
        "rng = pd.date_range('2016 Jul 1', periods = 10, freq = 'M')\n",
        "rng"
      ],
      "execution_count": 4,
      "outputs": [
        {
          "output_type": "execute_result",
          "data": {
            "text/plain": [
              "DatetimeIndex(['2016-07-31', '2016-08-31', '2016-09-30', '2016-10-31',\n",
              "               '2016-11-30', '2016-12-31', '2017-01-31', '2017-02-28',\n",
              "               '2017-03-31', '2017-04-30'],\n",
              "              dtype='datetime64[ns]', freq='M')"
            ]
          },
          "metadata": {
            "tags": []
          },
          "execution_count": 4
        }
      ]
    },
    {
      "cell_type": "code",
      "metadata": {
        "collapsed": true,
        "id": "ktle2tbKBNVM"
      },
      "source": [
        "# Which of these formats DON'T work?\n",
        "#'2016 Jul 1', '7/1/2016', '1/7/2016', 'July 1, 2016', '2016-07-01', '2016/07/01'"
      ],
      "execution_count": 5,
      "outputs": []
    },
    {
      "cell_type": "code",
      "metadata": {
        "collapsed": true,
        "id": "gUhnjRPQBNVM"
      },
      "source": [
        "# Is '7/1/2016 in January or July?"
      ],
      "execution_count": 6,
      "outputs": []
    },
    {
      "cell_type": "code",
      "metadata": {
        "id": "3K9bmIwTBNVM",
        "outputId": "748ee83f-71ed-437b-e5fb-2903de3619e4",
        "colab": {
          "base_uri": "https://localhost:8080/"
        }
      },
      "source": [
        "# What is the class of an individual object held in the date_range?\n",
        "type(rng[1])"
      ],
      "execution_count": 7,
      "outputs": [
        {
          "output_type": "execute_result",
          "data": {
            "text/plain": [
              "pandas._libs.tslibs.timestamps.Timestamp"
            ]
          },
          "metadata": {
            "tags": []
          },
          "execution_count": 7
        }
      ]
    },
    {
      "cell_type": "markdown",
      "metadata": {
        "id": "U9EYRbOzGLbb"
      },
      "source": [
        "## Time Stamps"
      ]
    },
    {
      "cell_type": "code",
      "metadata": {
        "id": "730u7YNNBNVM",
        "outputId": "a59f6162-1777-4add-89e3-b784f492697b",
        "colab": {
          "base_uri": "https://localhost:8080/"
        }
      },
      "source": [
        "# TIME STAMPS VS TIME SPANS\n",
        "pd.Timestamp('2016-07-10')"
      ],
      "execution_count": 8,
      "outputs": [
        {
          "output_type": "execute_result",
          "data": {
            "text/plain": [
              "Timestamp('2016-07-10 00:00:00')"
            ]
          },
          "metadata": {
            "tags": []
          },
          "execution_count": 8
        }
      ]
    },
    {
      "cell_type": "code",
      "metadata": {
        "id": "jjZ7US9aBNVN",
        "outputId": "0b6f3ec2-2621-4c76-df32-82c734bb23bb",
        "colab": {
          "base_uri": "https://localhost:8080/"
        }
      },
      "source": [
        "# You can also more details \n",
        "pd.Timestamp('2016-07-10 10')"
      ],
      "execution_count": 9,
      "outputs": [
        {
          "output_type": "execute_result",
          "data": {
            "text/plain": [
              "Timestamp('2016-07-10 10:00:00')"
            ]
          },
          "metadata": {
            "tags": []
          },
          "execution_count": 9
        }
      ]
    },
    {
      "cell_type": "code",
      "metadata": {
        "id": "v-H0GxoEBNVN",
        "outputId": "0074106f-bfdf-462e-fd82-51470a55c895",
        "colab": {
          "base_uri": "https://localhost:8080/"
        }
      },
      "source": [
        "# Or even more...\n",
        "pd.Timestamp('2016-07-10 10:15')"
      ],
      "execution_count": 10,
      "outputs": [
        {
          "output_type": "execute_result",
          "data": {
            "text/plain": [
              "Timestamp('2016-07-10 10:15:00')"
            ]
          },
          "metadata": {
            "tags": []
          },
          "execution_count": 10
        }
      ]
    },
    {
      "cell_type": "code",
      "metadata": {
        "collapsed": true,
        "id": "7uVYHpnUBNVN",
        "outputId": "244acf9a-fe27-43d0-d9f4-4380d96936dc",
        "colab": {
          "base_uri": "https://localhost:8080/"
        }
      },
      "source": [
        "# How much detail can you add?\n",
        "pd.Timestamp('2016-07-10 10:15:00.00001')"
      ],
      "execution_count": 11,
      "outputs": [
        {
          "output_type": "execute_result",
          "data": {
            "text/plain": [
              "Timestamp('2016-07-10 10:15:00.000010')"
            ]
          },
          "metadata": {
            "tags": []
          },
          "execution_count": 11
        }
      ]
    },
    {
      "cell_type": "code",
      "metadata": {
        "id": "oRgzf8hdBNVO"
      },
      "source": [
        "# What are some properties of timestamps? Try them out.\n",
        "# hint: http://pandas.pydata.org/pandas-docs/stable/timeseries.html#time-date-components\n",
        "t = pd.Timestamp('2016-07-10 10:15')"
      ],
      "execution_count": 12,
      "outputs": []
    },
    {
      "cell_type": "markdown",
      "metadata": {
        "id": "H1xkozjZD6He"
      },
      "source": [
        "## Time Offsets"
      ]
    },
    {
      "cell_type": "code",
      "metadata": {
        "id": "TXLzvP1xD3KU",
        "outputId": "90acbdde-b0c2-4575-cb0f-a74c0d5d2c3e",
        "colab": {
          "base_uri": "https://localhost:8080/"
        }
      },
      "source": [
        "pd.Timedelta('3 days 1 hour')"
      ],
      "execution_count": 13,
      "outputs": [
        {
          "output_type": "execute_result",
          "data": {
            "text/plain": [
              "Timedelta('3 days 01:00:00')"
            ]
          },
          "metadata": {
            "tags": []
          },
          "execution_count": 13
        }
      ]
    },
    {
      "cell_type": "code",
      "metadata": {
        "id": "P4jGo4E1E3Ad",
        "outputId": "ffbc0dd6-fcb3-4c77-a445-ef76fc106e2f",
        "colab": {
          "base_uri": "https://localhost:8080/"
        }
      },
      "source": [
        "pd.Timestamp('2020-11-30 06:00:30') + pd.Timedelta('3 days')"
      ],
      "execution_count": 14,
      "outputs": [
        {
          "output_type": "execute_result",
          "data": {
            "text/plain": [
              "Timestamp('2020-12-03 06:00:30')"
            ]
          },
          "metadata": {
            "tags": []
          },
          "execution_count": 14
        }
      ]
    },
    {
      "cell_type": "code",
      "metadata": {
        "id": "kF1hbyVtFH7l",
        "outputId": "87cccd2f-a970-419f-f976-2a7a3998953d",
        "colab": {
          "base_uri": "https://localhost:8080/"
        }
      },
      "source": [
        "pd.Timedelta('1ns') # The finest grade you can get is 1 nano second"
      ],
      "execution_count": 15,
      "outputs": [
        {
          "output_type": "execute_result",
          "data": {
            "text/plain": [
              "Timedelta('0 days 00:00:00.000000001')"
            ]
          },
          "metadata": {
            "tags": []
          },
          "execution_count": 15
        }
      ]
    },
    {
      "cell_type": "code",
      "metadata": {
        "id": "PBJfMcosFUDh",
        "outputId": "9eb1f900-0538-4700-c34a-f4d3ba08ba99",
        "colab": {
          "base_uri": "https://localhost:8080/"
        }
      },
      "source": [
        "rng + pd.Timedelta('1 day')"
      ],
      "execution_count": 16,
      "outputs": [
        {
          "output_type": "execute_result",
          "data": {
            "text/plain": [
              "DatetimeIndex(['2016-08-01', '2016-09-01', '2016-10-01', '2016-11-01',\n",
              "               '2016-12-01', '2017-01-01', '2017-02-01', '2017-03-01',\n",
              "               '2017-04-01', '2017-05-01'],\n",
              "              dtype='datetime64[ns]', freq=None)"
            ]
          },
          "metadata": {
            "tags": []
          },
          "execution_count": 16
        }
      ]
    },
    {
      "cell_type": "markdown",
      "metadata": {
        "id": "FYQFNO1YEVl6"
      },
      "source": [
        "## Time spans"
      ]
    },
    {
      "cell_type": "code",
      "metadata": {
        "id": "lny6yQTOBNVO"
      },
      "source": [
        "# TIME SPANS\n",
        "p = pd.Period('2016-01')"
      ],
      "execution_count": 17,
      "outputs": []
    },
    {
      "cell_type": "code",
      "metadata": {
        "collapsed": true,
        "id": "ac3rOlb7BNVO",
        "outputId": "13084484-2934-4cb4-f5a4-79a407884b0c",
        "colab": {
          "base_uri": "https://localhost:8080/"
        }
      },
      "source": [
        "# What's that extra info above? How does it get set?\n",
        "print(p.start_time)\n",
        "print(p.end_time)"
      ],
      "execution_count": 18,
      "outputs": [
        {
          "output_type": "stream",
          "text": [
            "2016-01-01 00:00:00\n",
            "2016-01-31 23:59:59.999999999\n"
          ],
          "name": "stdout"
        }
      ]
    },
    {
      "cell_type": "code",
      "metadata": {
        "id": "40Moh1tpBNVO",
        "outputId": "0f328991-a5a3-4658-c5cb-0c639bcd7250",
        "colab": {
          "base_uri": "https://localhost:8080/"
        }
      },
      "source": [
        "pd.Period('2016-01-01')"
      ],
      "execution_count": 19,
      "outputs": [
        {
          "output_type": "execute_result",
          "data": {
            "text/plain": [
              "Period('2016-01-01', 'D')"
            ]
          },
          "metadata": {
            "tags": []
          },
          "execution_count": 19
        }
      ]
    },
    {
      "cell_type": "code",
      "metadata": {
        "id": "DG5RrPmcBNVP",
        "outputId": "aff420e1-f218-4c9d-e8c0-d1e23d55841c",
        "colab": {
          "base_uri": "https://localhost:8080/"
        }
      },
      "source": [
        "pd.Period('2016-01-01 10')"
      ],
      "execution_count": 20,
      "outputs": [
        {
          "output_type": "execute_result",
          "data": {
            "text/plain": [
              "Period('2016-01-01 10:00', 'H')"
            ]
          },
          "metadata": {
            "tags": []
          },
          "execution_count": 20
        }
      ]
    },
    {
      "cell_type": "code",
      "metadata": {
        "id": "QKkhjcmPBNVP",
        "outputId": "39576652-d6d8-4459-d8e1-dcaaf5b6f1f8",
        "colab": {
          "base_uri": "https://localhost:8080/"
        }
      },
      "source": [
        "pd.Period('2016-01-01 10:10')"
      ],
      "execution_count": 21,
      "outputs": [
        {
          "output_type": "execute_result",
          "data": {
            "text/plain": [
              "Period('2016-01-01 10:10', 'T')"
            ]
          },
          "metadata": {
            "tags": []
          },
          "execution_count": 21
        }
      ]
    },
    {
      "cell_type": "code",
      "metadata": {
        "id": "9GqWD2-LBNVP",
        "outputId": "c1f91072-2102-4039-c864-52a936ef1c11",
        "colab": {
          "base_uri": "https://localhost:8080/"
        }
      },
      "source": [
        "pd.Period('2016-01-01 10:10:10')\n",
        "\n",
        "pd.Period('2016-01-01 10:10') + pd.Timedelta('1 day')"
      ],
      "execution_count": 22,
      "outputs": [
        {
          "output_type": "execute_result",
          "data": {
            "text/plain": [
              "Period('2016-01-02 10:10', 'T')"
            ]
          },
          "metadata": {
            "tags": []
          },
          "execution_count": 22
        }
      ]
    },
    {
      "cell_type": "code",
      "metadata": {
        "id": "AhCSiXKIBNVQ"
      },
      "source": [
        "# What's the most detailed Period you can get?"
      ],
      "execution_count": 23,
      "outputs": []
    },
    {
      "cell_type": "code",
      "metadata": {
        "collapsed": true,
        "id": "CQiapYxyBNVQ"
      },
      "source": [
        "# How can you make multiple time periods? \n",
        "# Hint look for analogy with pd.date_range() above"
      ],
      "execution_count": 24,
      "outputs": []
    },
    {
      "cell_type": "code",
      "metadata": {
        "id": "hNoR3drWBNVS",
        "outputId": "cd36e258-b3f0-4692-83e4-67109d09b00e",
        "colab": {
          "base_uri": "https://localhost:8080/"
        }
      },
      "source": [
        "# FANCY FREQUENCY SETTING\n",
        "# Only want business days\n",
        "pd.period_range('2020-12-20 10:10', freq = 'B', periods = 10)"
      ],
      "execution_count": 25,
      "outputs": [
        {
          "output_type": "execute_result",
          "data": {
            "text/plain": [
              "PeriodIndex(['2020-12-21', '2020-12-22', '2020-12-23', '2020-12-24',\n",
              "             '2020-12-25', '2020-12-28', '2020-12-29', '2020-12-30',\n",
              "             '2020-12-31', '2021-01-01'],\n",
              "            dtype='period[B]', freq='B')"
            ]
          },
          "metadata": {
            "tags": []
          },
          "execution_count": 25
        }
      ]
    },
    {
      "cell_type": "code",
      "metadata": {
        "id": "dsRjJ4vXBNVS"
      },
      "source": [
        "# It's possible to combine frequencies. What if you want to advance by 25 hours each day. What are the 2 ways to do it?\n",
        "p1 = pd.period_range('2016-01-01 10:10', freq = '25H', periods = 10)"
      ],
      "execution_count": 26,
      "outputs": []
    },
    {
      "cell_type": "code",
      "metadata": {
        "id": "IpD2oF3jBNVS"
      },
      "source": [
        "p2 = pd.period_range('2016-01-01 10:10', freq = '1D1H', periods = 10)"
      ],
      "execution_count": 27,
      "outputs": []
    },
    {
      "cell_type": "code",
      "metadata": {
        "id": "EvgFdyCYBNVT",
        "outputId": "c6c9b209-45d7-4c82-c769-bfb700d8e0c1",
        "colab": {
          "base_uri": "https://localhost:8080/"
        }
      },
      "source": [
        "p1"
      ],
      "execution_count": 28,
      "outputs": [
        {
          "output_type": "execute_result",
          "data": {
            "text/plain": [
              "PeriodIndex(['2016-01-01 10:00', '2016-01-02 11:00', '2016-01-03 12:00',\n",
              "             '2016-01-04 13:00', '2016-01-05 14:00', '2016-01-06 15:00',\n",
              "             '2016-01-07 16:00', '2016-01-08 17:00', '2016-01-09 18:00',\n",
              "             '2016-01-10 19:00'],\n",
              "            dtype='period[25H]', freq='25H')"
            ]
          },
          "metadata": {
            "tags": []
          },
          "execution_count": 28
        }
      ]
    },
    {
      "cell_type": "code",
      "metadata": {
        "id": "BnnBI7XCBNVT",
        "outputId": "7aa2c828-5bb3-4371-bc0d-c58c08520f1b",
        "colab": {
          "base_uri": "https://localhost:8080/"
        }
      },
      "source": [
        "p2"
      ],
      "execution_count": 29,
      "outputs": [
        {
          "output_type": "execute_result",
          "data": {
            "text/plain": [
              "PeriodIndex(['2016-01-01 10:00', '2016-01-02 11:00', '2016-01-03 12:00',\n",
              "             '2016-01-04 13:00', '2016-01-05 14:00', '2016-01-06 15:00',\n",
              "             '2016-01-07 16:00', '2016-01-08 17:00', '2016-01-09 18:00',\n",
              "             '2016-01-10 19:00'],\n",
              "            dtype='period[25H]', freq='25H')"
            ]
          },
          "metadata": {
            "tags": []
          },
          "execution_count": 29
        }
      ]
    },
    {
      "cell_type": "code",
      "metadata": {
        "collapsed": true,
        "id": "gp26qRg1BNVT",
        "outputId": "a50796d4-548a-44d2-858f-32e188194054",
        "colab": {
          "base_uri": "https://localhost:8080/"
        }
      },
      "source": [
        "# How can you determine whether a timestamp falls within a given period\n",
        "time_1 = pd.Timestamp('2020 12-20 07:30:00')\n",
        "period_1 = pd.Period('2020 12-20 07')\n",
        "print(period_1.end_time > time_1 > period_1.start_time)"
      ],
      "execution_count": 30,
      "outputs": [
        {
          "output_type": "stream",
          "text": [
            "True\n"
          ],
          "name": "stdout"
        }
      ]
    },
    {
      "cell_type": "markdown",
      "metadata": {
        "id": "0JciNEaxLChX"
      },
      "source": [
        "## Indexing with time series"
      ]
    },
    {
      "cell_type": "code",
      "metadata": {
        "id": "P0b_sol6BNVT",
        "outputId": "e6d0a17f-3d0c-4c88-a9a7-a35805b7bf72",
        "colab": {
          "base_uri": "https://localhost:8080/"
        }
      },
      "source": [
        "# INDEXING WITH TIME OBJECTS\n",
        "# You can use these objects for indices\n",
        "# Let's start with using a date range as above\n",
        "rng = pd.date_range('2016 Jul 1 00:00:00', periods = 10, freq = 'D')\n",
        "rng\n",
        "pd.Series(range(len(rng)), index = rng)"
      ],
      "execution_count": 31,
      "outputs": [
        {
          "output_type": "execute_result",
          "data": {
            "text/plain": [
              "2016-07-01    0\n",
              "2016-07-02    1\n",
              "2016-07-03    2\n",
              "2016-07-04    3\n",
              "2016-07-05    4\n",
              "2016-07-06    5\n",
              "2016-07-07    6\n",
              "2016-07-08    7\n",
              "2016-07-09    8\n",
              "2016-07-10    9\n",
              "Freq: D, dtype: int64"
            ]
          },
          "metadata": {
            "tags": []
          },
          "execution_count": 31
        }
      ]
    },
    {
      "cell_type": "code",
      "metadata": {
        "id": "mk-hhejpBNVU",
        "outputId": "0ffe41c8-7c55-4f64-eb5c-f92b854fc5b2",
        "colab": {
          "base_uri": "https://localhost:8080/"
        }
      },
      "source": [
        "# You can also use time period indices, in cases where it makes more sense \n",
        "# to think about your index as a time span rather than a single point in time\n",
        "\n",
        "periods = [pd.Period('2016-01'), pd.Period('2016-02'), pd.Period('2016-03')]\n",
        "ts = pd.Series(np.random.randn(len(periods)), index = periods)\n",
        "ts"
      ],
      "execution_count": 32,
      "outputs": [
        {
          "output_type": "execute_result",
          "data": {
            "text/plain": [
              "2016-01    1.693445\n",
              "2016-02   -1.204218\n",
              "2016-03    0.695200\n",
              "Freq: M, dtype: float64"
            ]
          },
          "metadata": {
            "tags": []
          },
          "execution_count": 32
        }
      ]
    },
    {
      "cell_type": "code",
      "metadata": {
        "id": "lUL29u1JBNVU",
        "outputId": "27c224ed-5a1d-4a2c-974f-8d6f698fa6f7",
        "colab": {
          "base_uri": "https://localhost:8080/"
        }
      },
      "source": [
        "# What type is the index for ts?\n",
        "print(type(ts.index))\n",
        "print(type(ts.index[0]))"
      ],
      "execution_count": 33,
      "outputs": [
        {
          "output_type": "stream",
          "text": [
            "<class 'pandas.core.indexes.period.PeriodIndex'>\n",
            "<class 'pandas._libs.tslibs.period.Period'>\n"
          ],
          "name": "stdout"
        }
      ]
    },
    {
      "cell_type": "code",
      "metadata": {
        "collapsed": true,
        "id": "73ygL70GBNVU",
        "outputId": "69089501-9a31-41c6-ab4f-ae39d51b68fc",
        "colab": {
          "base_uri": "https://localhost:8080/"
        }
      },
      "source": [
        "# Experiment with various indices\n",
        "# Hint: does ts['2016'] work? \n",
        "ts['2016']"
      ],
      "execution_count": 34,
      "outputs": [
        {
          "output_type": "execute_result",
          "data": {
            "text/plain": [
              "2016-01    1.693445\n",
              "2016-02   -1.204218\n",
              "2016-03    0.695200\n",
              "Freq: M, dtype: float64"
            ]
          },
          "metadata": {
            "tags": []
          },
          "execution_count": 34
        }
      ]
    },
    {
      "cell_type": "code",
      "metadata": {
        "id": "u_UVkeeSBNVU",
        "outputId": "a0135efd-2ae1-41cc-acdc-e68dec1c99ab",
        "colab": {
          "base_uri": "https://localhost:8080/"
        }
      },
      "source": [
        "# Timestamped data can be convereted to period indices with to_period and vice versa with to_timestamp\n",
        "ts = pd.Series(range(10), pd.date_range('07-10-16 8:15', periods = 10, freq = 'H'))\n",
        "ts"
      ],
      "execution_count": 35,
      "outputs": [
        {
          "output_type": "execute_result",
          "data": {
            "text/plain": [
              "2016-07-10 08:15:00    0\n",
              "2016-07-10 09:15:00    1\n",
              "2016-07-10 10:15:00    2\n",
              "2016-07-10 11:15:00    3\n",
              "2016-07-10 12:15:00    4\n",
              "2016-07-10 13:15:00    5\n",
              "2016-07-10 14:15:00    6\n",
              "2016-07-10 15:15:00    7\n",
              "2016-07-10 16:15:00    8\n",
              "2016-07-10 17:15:00    9\n",
              "Freq: H, dtype: int64"
            ]
          },
          "metadata": {
            "tags": []
          },
          "execution_count": 35
        }
      ]
    },
    {
      "cell_type": "code",
      "metadata": {
        "id": "elw0IlVZBNVU",
        "outputId": "19e5d6fb-e11b-4104-8cb0-d7ad58f695f6",
        "colab": {
          "base_uri": "https://localhost:8080/"
        }
      },
      "source": [
        "# Notice the start time change due to period function\n",
        "ts_period = ts.to_period(freq='H')\n",
        "ts_period"
      ],
      "execution_count": 36,
      "outputs": [
        {
          "output_type": "execute_result",
          "data": {
            "text/plain": [
              "2016-07-10 08:00    0\n",
              "2016-07-10 09:00    1\n",
              "2016-07-10 10:00    2\n",
              "2016-07-10 11:00    3\n",
              "2016-07-10 12:00    4\n",
              "2016-07-10 13:00    5\n",
              "2016-07-10 14:00    6\n",
              "2016-07-10 15:00    7\n",
              "2016-07-10 16:00    8\n",
              "2016-07-10 17:00    9\n",
              "Freq: H, dtype: int64"
            ]
          },
          "metadata": {
            "tags": []
          },
          "execution_count": 36
        }
      ]
    },
    {
      "cell_type": "code",
      "metadata": {
        "id": "K4LwUrKiBNVV",
        "outputId": "f886f0b3-b314-4927-d053-10f9a49bfb23",
        "colab": {
          "base_uri": "https://localhost:8080/"
        }
      },
      "source": [
        "# Super cool way of accessing the series with time range\n",
        "# This syntax is inclusive compared with other array `__get_item` method\n",
        "\n",
        "ts_period['2016-07-10 08:30':'2016-07-10 09:20'] # we have the concept of overlap with time periods"
      ],
      "execution_count": 37,
      "outputs": [
        {
          "output_type": "execute_result",
          "data": {
            "text/plain": [
              "2016-07-10 08:00    0\n",
              "2016-07-10 09:00    1\n",
              "Freq: H, dtype: int64"
            ]
          },
          "metadata": {
            "tags": []
          },
          "execution_count": 37
        }
      ]
    },
    {
      "cell_type": "code",
      "metadata": {
        "id": "Dw9aq-YrBNVX",
        "outputId": "f9fcd0df-3fb4-4df3-85c0-e1dd08237372",
        "colab": {
          "base_uri": "https://localhost:8080/"
        }
      },
      "source": [
        "# Super cool way of accessing the series with time range but notice the index is timestamp and so the return values are different\n",
        "# This syntax is inclusive compared with other array `__get_item` method\n",
        "\n",
        "ts['2016-07-10 08:30':'2016-07-10 09:20'] # we have the concept of include with timestamps"
      ],
      "execution_count": 38,
      "outputs": [
        {
          "output_type": "execute_result",
          "data": {
            "text/plain": [
              "2016-07-10 09:15:00    1\n",
              "Freq: H, dtype: int64"
            ]
          },
          "metadata": {
            "tags": []
          },
          "execution_count": 38
        }
      ]
    },
    {
      "cell_type": "code",
      "metadata": {
        "id": "PWd1l5AgSdF1",
        "outputId": "9d8f5c1c-950a-48e7-dc96-e4efa288f670",
        "colab": {
          "base_uri": "https://localhost:8080/"
        }
      },
      "source": [
        "# Generate a timestamp with European style formatted date string (e.g. dayfirst formatted).\n",
        "# In particular March 4th 2020\n",
        "\n",
        "pd.to_datetime('04/03/2020', dayfirst=True)"
      ],
      "execution_count": 40,
      "outputs": [
        {
          "output_type": "execute_result",
          "data": {
            "text/plain": [
              "Timestamp('2020-03-04 00:00:00')"
            ]
          },
          "metadata": {
            "tags": []
          },
          "execution_count": 40
        }
      ]
    },
    {
      "cell_type": "code",
      "metadata": {
        "id": "Ab8gQmioSd7z",
        "outputId": "1d0d0b02-8cab-421c-a660-61e744828ff4",
        "colab": {
          "base_uri": "https://localhost:8080/",
          "height": 37
        }
      },
      "source": [
        "# Generate string representation in a desired format from pd.Timestamp\n",
        "# Say for example, I want to extract a string '2016' from pd.Timestamp('Mar 4 2020')\n",
        "\n",
        "pd.Timestamp('Mar 4, 2020').strftime(format='%Y-%m-%d')"
      ],
      "execution_count": 45,
      "outputs": [
        {
          "output_type": "execute_result",
          "data": {
            "application/vnd.google.colaboratory.intrinsic+json": {
              "type": "string"
            },
            "text/plain": [
              "'2020-03-04'"
            ]
          },
          "metadata": {
            "tags": []
          },
          "execution_count": 45
        }
      ]
    },
    {
      "cell_type": "code",
      "metadata": {
        "id": "zW947nXsSesU",
        "outputId": "31edd697-b272-4336-d331-8a087bb78d1e",
        "colab": {
          "base_uri": "https://localhost:8080/"
        }
      },
      "source": [
        "# More neat indexing (jumping by 2), the number after second column indicating the jumping pace\n",
        "numbers = list(range(20))\n",
        "numbers[::2]"
      ],
      "execution_count": 50,
      "outputs": [
        {
          "output_type": "execute_result",
          "data": {
            "text/plain": [
              "[0, 2, 4, 6, 8, 10, 12, 14, 16, 18]"
            ]
          },
          "metadata": {
            "tags": []
          },
          "execution_count": 50
        }
      ]
    },
    {
      "cell_type": "code",
      "metadata": {
        "id": "pEDlIRHBSe9k",
        "outputId": "9313fbbf-3e5b-463c-d79f-71c72235691d",
        "colab": {
          "base_uri": "https://localhost:8080/"
        }
      },
      "source": [
        "ts['2016-07-10 08:15'::3]"
      ],
      "execution_count": 52,
      "outputs": [
        {
          "output_type": "execute_result",
          "data": {
            "text/plain": [
              "2016-07-10 08:15:00    0\n",
              "2016-07-10 11:15:00    3\n",
              "2016-07-10 14:15:00    6\n",
              "2016-07-10 17:15:00    9\n",
              "Freq: 3H, dtype: int64"
            ]
          },
          "metadata": {
            "tags": []
          },
          "execution_count": 52
        }
      ]
    },
    {
      "cell_type": "code",
      "metadata": {
        "id": "z80-La-ZSfGs",
        "outputId": "96cad782-68ab-4bd7-92cc-a16228b305a1",
        "colab": {
          "base_uri": "https://localhost:8080/"
        }
      },
      "source": [
        "ts['2016-07-10 16:15'::-1]"
      ],
      "execution_count": 53,
      "outputs": [
        {
          "output_type": "execute_result",
          "data": {
            "text/plain": [
              "2016-07-10 16:15:00    8\n",
              "2016-07-10 15:15:00    7\n",
              "2016-07-10 14:15:00    6\n",
              "2016-07-10 13:15:00    5\n",
              "2016-07-10 12:15:00    4\n",
              "2016-07-10 11:15:00    3\n",
              "2016-07-10 10:15:00    2\n",
              "2016-07-10 09:15:00    1\n",
              "2016-07-10 08:15:00    0\n",
              "Freq: -1H, dtype: int64"
            ]
          },
          "metadata": {
            "tags": []
          },
          "execution_count": 53
        }
      ]
    },
    {
      "cell_type": "code",
      "metadata": {
        "id": "4Bzec-xKVBBz"
      },
      "source": [
        ""
      ],
      "execution_count": null,
      "outputs": []
    }
  ]
}